{
  "nbformat": 4,
  "nbformat_minor": 0,
  "metadata": {
    "colab": {
      "name": "LogisticRegression.ipynb",
      "provenance": [],
      "authorship_tag": "ABX9TyOt4feAVWgHdmtOyQMZeyWR",
      "include_colab_link": true
    },
    "kernelspec": {
      "name": "python3",
      "display_name": "Python 3"
    }
  },
  "cells": [
    {
      "cell_type": "markdown",
      "metadata": {
        "id": "view-in-github",
        "colab_type": "text"
      },
      "source": [
        "<a href=\"https://colab.research.google.com/github/vini1lol/Harvardx/blob/master/LogisticRegression.ipynb\" target=\"_parent\"><img src=\"https://colab.research.google.com/assets/colab-badge.svg\" alt=\"Open In Colab\"/></a>"
      ]
    },
    {
      "cell_type": "code",
      "metadata": {
        "id": "tsd1tQ5bMykI",
        "colab_type": "code",
        "colab": {}
      },
      "source": [
        "import numpy as np\n",
        "import scipy.stats as ss\n",
        "import matplotlib.pyplot as plt\n",
        "\n",
        "from sklearn.linear_model import LinearRegression\n",
        "from sklearn.model_selection import train_test_split"
      ],
      "execution_count": 0,
      "outputs": []
    },
    {
      "cell_type": "code",
      "metadata": {
        "id": "aM7GVbPKNt6O",
        "colab_type": "code",
        "colab": {}
      },
      "source": [
        "h = 1\n",
        "sd = 1\n",
        "n = 50\n",
        "\n",
        "def gen_data(n,h,sd1,sd2):\n",
        "  x1 = ss.norm.rvs(-h,sd1,n)\n",
        "  y1 = ss.norm.rvs(0,sd1,n)\n",
        "  x2 = ss.norm.rvs(h,sd2,n)\n",
        "  y2 = ss.norm.rvs(0,sd2,n)\n",
        "  return (x1,y1,x2,y2) "
      ],
      "execution_count": 0,
      "outputs": []
    },
    {
      "cell_type": "code",
      "metadata": {
        "id": "MWxhC208OcGj",
        "colab_type": "code",
        "colab": {}
      },
      "source": [
        "(x1,y1,x2,y2) = gen_data(50,1,1,1.5)"
      ],
      "execution_count": 0,
      "outputs": []
    },
    {
      "cell_type": "code",
      "metadata": {
        "id": "Mc8fgyTfPHOZ",
        "colab_type": "code",
        "colab": {}
      },
      "source": [
        "(x1,y1,x2,y2) = gen_data(1000,1.5,1,1.5)"
      ],
      "execution_count": 0,
      "outputs": []
    },
    {
      "cell_type": "code",
      "metadata": {
        "id": "Pg-97ck9PRuE",
        "colab_type": "code",
        "colab": {}
      },
      "source": [
        "def plot_data(x1,y1,x2,y2):\n",
        "  plt.figure()\n",
        "  plt.plot(x1,y1, 'o', ms=2)\n",
        "  plt.plot(x2,y2, 'o', ms=2)\n",
        "  plt.xlabel(\"$X_1$\")\n",
        "  plt.ylabel(\"$X_2$\")"
      ],
      "execution_count": 0,
      "outputs": []
    },
    {
      "cell_type": "code",
      "metadata": {
        "id": "CauJuQmpQBsP",
        "colab_type": "code",
        "outputId": "c8cb6b7a-ce69-4378-b04b-9560c2687b51",
        "colab": {
          "base_uri": "https://localhost:8080/",
          "height": 283
        }
      },
      "source": [
        "plot_data(x1,y1,x2,y2)"
      ],
      "execution_count": 0,
      "outputs": [
        {
          "output_type": "display_data",
          "data": {
            "image/png": "[encoded data removed]",
            "text/plain": [
              "<Figure size 432x288 with 1 Axes>"
            ]
          },
          "metadata": {
            "tags": [],
            "needs_background": "light"
          }
        }
      ]
    },
    {
      "cell_type": "code",
      "metadata": {
        "id": "6muPuKtGQJtY",
        "colab_type": "code",
        "colab": {}
      },
      "source": [
        "from sklearn.linear_model import LogisticRegression"
      ],
      "execution_count": 0,
      "outputs": []
    },
    {
      "cell_type": "code",
      "metadata": {
        "id": "hsC9uX5tSnkW",
        "colab_type": "code",
        "colab": {}
      },
      "source": [
        "clf = LogisticRegression()"
      ],
      "execution_count": 0,
      "outputs": []
    },
    {
      "cell_type": "code",
      "metadata": {
        "id": "0MSTVldpSqGK",
        "colab_type": "code",
        "colab": {}
      },
      "source": [
        "X = np.vstack((np.vstack((x1,y1)).T, np.vstack((x2,y2)).T))"
      ],
      "execution_count": 0,
      "outputs": []
    },
    {
      "cell_type": "code",
      "metadata": {
        "id": "gTV5k9weWOz-",
        "colab_type": "code",
        "outputId": "d992cbfa-25ce-4343-ae13-4b3cfee29326",
        "colab": {
          "base_uri": "https://localhost:8080/",
          "height": 34
        }
      },
      "source": [
        "X.shape"
      ],
      "execution_count": 0,
      "outputs": [
        {
          "output_type": "execute_result",
          "data": {
            "text/plain": [
              "(2000, 2)"
            ]
          },
          "metadata": {
            "tags": []
          },
          "execution_count": 15
        }
      ]
    },
    {
      "cell_type": "code",
      "metadata": {
        "id": "36_7vN55WoQT",
        "colab_type": "code",
        "colab": {}
      },
      "source": [
        "n = 1000\n",
        "y = np.hstack((np.repeat(1,n),np.repeat(2,n)))"
      ],
      "execution_count": 0,
      "outputs": []
    },
    {
      "cell_type": "code",
      "metadata": {
        "id": "g6QZWKBiXBmS",
        "colab_type": "code",
        "outputId": "49791231-00f6-45f7-cb5c-0e785ae4b7b2",
        "colab": {
          "base_uri": "https://localhost:8080/",
          "height": 34
        }
      },
      "source": [
        "y.shape"
      ],
      "execution_count": 0,
      "outputs": [
        {
          "output_type": "execute_result",
          "data": {
            "text/plain": [
              "(2000,)"
            ]
          },
          "metadata": {
            "tags": []
          },
          "execution_count": 19
        }
      ]
    },
    {
      "cell_type": "code",
      "metadata": {
        "id": "ubcs3FZCXDQf",
        "colab_type": "code",
        "colab": {}
      },
      "source": [
        "X_train,X_test,y_train,y_test = train_test_split(X,y,train_size =0.5, random_state=1)"
      ],
      "execution_count": 0,
      "outputs": []
    },
    {
      "cell_type": "code",
      "metadata": {
        "id": "IKUCaM2-Xn7s",
        "colab_type": "code",
        "outputId": "6e09e901-c30c-4939-88f8-aaa7d5682345",
        "colab": {
          "base_uri": "https://localhost:8080/",
          "height": 34
        }
      },
      "source": [
        "X_train.shape"
      ],
      "execution_count": 0,
      "outputs": [
        {
          "output_type": "execute_result",
          "data": {
            "text/plain": [
              "(1000, 2)"
            ]
          },
          "metadata": {
            "tags": []
          },
          "execution_count": 21
        }
      ]
    },
    {
      "cell_type": "code",
      "metadata": {
        "id": "d1zL7-yPXqXG",
        "colab_type": "code",
        "outputId": "818cb8a7-01de-44d6-bfbc-a985e933dfbc",
        "colab": {
          "base_uri": "https://localhost:8080/",
          "height": 34
        }
      },
      "source": [
        "X_test.shape"
      ],
      "execution_count": 0,
      "outputs": [
        {
          "output_type": "execute_result",
          "data": {
            "text/plain": [
              "(1000, 2)"
            ]
          },
          "metadata": {
            "tags": []
          },
          "execution_count": 23
        }
      ]
    },
    {
      "cell_type": "code",
      "metadata": {
        "id": "K9wVmKtIXsL_",
        "colab_type": "code",
        "outputId": "7acb6c75-5965-48d9-b03d-d6d6e65e68ab",
        "colab": {
          "base_uri": "https://localhost:8080/",
          "height": 102
        }
      },
      "source": [
        "clf.fit(X_train,y_train)"
      ],
      "execution_count": 0,
      "outputs": [
        {
          "output_type": "execute_result",
          "data": {
            "text/plain": [
              "LogisticRegression(C=1.0, class_weight=None, dual=False, fit_intercept=True,\n",
              "                   intercept_scaling=1, l1_ratio=None, max_iter=100,\n",
              "                   multi_class='auto', n_jobs=None, penalty='l2',\n",
              "                   random_state=None, solver='lbfgs', tol=0.0001, verbose=0,\n",
              "                   warm_start=False)"
            ]
          },
          "metadata": {
            "tags": []
          },
          "execution_count": 24
        }
      ]
    },
    {
      "cell_type": "code",
      "metadata": {
        "id": "Qb1SnkO9Xyut",
        "colab_type": "code",
        "outputId": "27bab407-3d41-4cc7-cf1b-d6282d6133d0",
        "colab": {
          "base_uri": "https://localhost:8080/",
          "height": 34
        }
      },
      "source": [
        "clf.score(X_test,y_test)"
      ],
      "execution_count": 0,
      "outputs": [
        {
          "output_type": "execute_result",
          "data": {
            "text/plain": [
              "0.89"
            ]
          },
          "metadata": {
            "tags": []
          },
          "execution_count": 25
        }
      ]
    },
    {
      "cell_type": "code",
      "metadata": {
        "id": "robi_oEnX6y6",
        "colab_type": "code",
        "outputId": "2a116fbd-5cc9-4fb5-aa86-fd1be2eea2d4",
        "colab": {
          "base_uri": "https://localhost:8080/",
          "height": 34
        }
      },
      "source": [
        "clf.predict_proba(np.array([-2,0]).reshape(1,-1))"
      ],
      "execution_count": 0,
      "outputs": [
        {
          "output_type": "execute_result",
          "data": {
            "text/plain": [
              "array([[0.96397392, 0.03602608]])"
            ]
          },
          "metadata": {
            "tags": []
          },
          "execution_count": 28
        }
      ]
    },
    {
      "cell_type": "code",
      "metadata": {
        "id": "NvsJ7uxTYPP5",
        "colab_type": "code",
        "outputId": "ee2b6a1f-863f-4653-b620-feec5093ef33",
        "colab": {
          "base_uri": "https://localhost:8080/",
          "height": 34
        }
      },
      "source": [
        "clf.predict(np.array([-2,0]).reshape(1,-1))"
      ],
      "execution_count": 0,
      "outputs": [
        {
          "output_type": "execute_result",
          "data": {
            "text/plain": [
              "array([1])"
            ]
          },
          "metadata": {
            "tags": []
          },
          "execution_count": 29
        }
      ]
    },
    {
      "cell_type": "code",
      "metadata": {
        "id": "g4dZNYSDYj3t",
        "colab_type": "code",
        "colab": {}
      },
      "source": [
        "def plot_probs(ax, clf, class_no):\n",
        "    xx1, xx2 = np.meshgrid(np.arange(-5, 5, 0.1), np.arange(-5, 5, 0.1))\n",
        "    probs = clf.predict_proba(np.stack((xx1.ravel(), xx2.ravel()), axis=1))\n",
        "    Z = probs[:,class_no]\n",
        "    Z = Z.reshape(xx1.shape)\n",
        "    CS = ax.contourf(xx1, xx2, Z)\n",
        "    cbar = plt.colorbar(CS)\n",
        "    plt.xlabel(\"$X_1$\")\n",
        "    plt.ylabel(\"$X_2$\")"
      ],
      "execution_count": 0,
      "outputs": []
    },
    {
      "cell_type": "code",
      "metadata": {
        "id": "xULX53zWaix7",
        "colab_type": "code",
        "outputId": "d2ab1fcd-7a8a-49ab-bc89-421d3dd472b7",
        "colab": {
          "base_uri": "https://localhost:8080/",
          "height": 517
        }
      },
      "source": [
        "plt.figure(figsize=(5,8))\n",
        "ax = plt.subplot(211)\n",
        "plot_probs(ax, clf, 0)\n",
        "plt.title(\"Pred. prob for class 1\")\n",
        "ax = plt.subplot(212)\n",
        "plot_probs(ax, clf, 1)\n",
        "plt.title(\"Pred. prob for class 2\");"
      ],
      "execution_count": 0,
      "outputs": [
        {
          "output_type": "display_data",
          "data": {
            "image/png": "[encoded data removed]",
            "text/plain": [
              "<Figure size 360x576 with 4 Axes>"
            ]
          },
          "metadata": {
            "tags": [],
            "needs_background": "light"
          }
        }
      ]
    },
    {
      "cell_type": "code",
      "metadata": {
        "id": "KRxbnEtnajcj",
        "colab_type": "code",
        "colab": {}
      },
      "source": [
        ""
      ],
      "execution_count": 0,
      "outputs": []
    }
  ]
}