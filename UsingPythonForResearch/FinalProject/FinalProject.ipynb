{
  "nbformat": 4,
  "nbformat_minor": 0,
  "metadata": {
    "colab": {
      "name": "FinalProject.ipynb",
      "provenance": [],
      "mount_file_id": "14vSOuMp__v813-WvmfpONnDqlq1sBfON",
      "authorship_tag": "ABX9TyNFMT8/khlucKsShvG5/kSh",
      "include_colab_link": true
    },
    "kernelspec": {
      "name": "python3",
      "display_name": "Python 3"
    }
  },
  "cells": [
    {
      "cell_type": "markdown",
      "metadata": {
        "id": "view-in-github",
        "colab_type": "text"
      },
      "source": [
        "<a href=\"https://colab.research.google.com/github/vini1lol/Harvardx/blob/master/FinalProject.ipynb\" target=\"_parent\"><img src=\"https://colab.research.google.com/assets/colab-badge.svg\" alt=\"Open In Colab\"/></a>"
      ]
    },
    {
      "cell_type": "code",
      "metadata": {
        "id": "2PH5eJqUmjkD",
        "colab_type": "code",
        "colab": {}
      },
      "source": [
        "import pandas as pd\n",
        "import numpy as np\n",
        "import time\n",
        "\n",
        "from sklearn.model_selection import cross_val_predict\n",
        "from sklearn.linear_model import LogisticRegression\n",
        "from sklearn.ensemble import RandomForestClassifier\n",
        "\n",
        "from sklearn.metrics import accuracy_score\n",
        "\n",
        "import matplotlib.pyplot as plt\n",
        "\n",
        "import warnings\n",
        "warnings.filterwarnings(\"ignore\")"
      ],
      "execution_count": null,
      "outputs": []
    },
    {
      "cell_type": "code",
      "metadata": {
        "id": "fpV0s2s2rcb2",
        "colab_type": "code",
        "colab": {}
      },
      "source": [
        "start_time = time.time()\n",
        "train_labels = pd.read_csv(\"/content/drive/My Drive/havardx/Using Python for Research/train_labels.csv\")\n",
        "train_time_series = pd.read_csv(\"/content/drive/My Drive/havardx/Using Python for Research/train_time_series.csv\")"
      ],
      "execution_count": null,
      "outputs": []
    },
    {
      "cell_type": "code",
      "metadata": {
        "id": "EWef3XaTt4cG",
        "colab_type": "code",
        "colab": {}
      },
      "source": [
        "train_labels.columns\n",
        "train_labels.drop(columns=train_labels.columns[0],inplace= True)"
      ],
      "execution_count": null,
      "outputs": []
    },
    {
      "cell_type": "code",
      "metadata": {
        "id": "Q9zqmRj_uB3P",
        "colab_type": "code",
        "colab": {
          "base_uri": "https://localhost:8080/",
          "height": 204
        },
        "outputId": "1d28d309-fd8d-48f5-909e-197ce648130e"
      },
      "source": [
        "train_labels.head()"
      ],
      "execution_count": null,
      "outputs": [
        {
          "output_type": "execute_result",
          "data": {
            "text/html": [
              "<div>\n",
              "<style scoped>\n",
              "    .dataframe tbody tr th:only-of-type {\n",
              "        vertical-align: middle;\n",
              "    }\n",
              "\n",
              "    .dataframe tbody tr th {\n",
              "        vertical-align: top;\n",
              "    }\n",
              "\n",
              "    .dataframe thead th {\n",
              "        text-align: right;\n",
              "    }\n",
              "</style>\n",
              "<table border=\"1\" class=\"dataframe\">\n",
              "  <thead>\n",
              "    <tr style=\"text-align: right;\">\n",
              "      <th></th>\n",
              "      <th>timestamp</th>\n",
              "      <th>UTC time</th>\n",
              "      <th>label</th>\n",
              "    </tr>\n",
              "  </thead>\n",
              "  <tbody>\n",
              "    <tr>\n",
              "      <th>0</th>\n",
              "      <td>1565109931087</td>\n",
              "      <td>2019-08-06T16:45:31.087</td>\n",
              "      <td>1</td>\n",
              "    </tr>\n",
              "    <tr>\n",
              "      <th>1</th>\n",
              "      <td>1565109932090</td>\n",
              "      <td>2019-08-06T16:45:32.090</td>\n",
              "      <td>1</td>\n",
              "    </tr>\n",
              "    <tr>\n",
              "      <th>2</th>\n",
              "      <td>1565109933092</td>\n",
              "      <td>2019-08-06T16:45:33.092</td>\n",
              "      <td>1</td>\n",
              "    </tr>\n",
              "    <tr>\n",
              "      <th>3</th>\n",
              "      <td>1565109934094</td>\n",
              "      <td>2019-08-06T16:45:34.094</td>\n",
              "      <td>1</td>\n",
              "    </tr>\n",
              "    <tr>\n",
              "      <th>4</th>\n",
              "      <td>1565109935097</td>\n",
              "      <td>2019-08-06T16:45:35.097</td>\n",
              "      <td>1</td>\n",
              "    </tr>\n",
              "  </tbody>\n",
              "</table>\n",
              "</div>"
            ],
            "text/plain": [
              "       timestamp                 UTC time  label\n",
              "0  1565109931087  2019-08-06T16:45:31.087      1\n",
              "1  1565109932090  2019-08-06T16:45:32.090      1\n",
              "2  1565109933092  2019-08-06T16:45:33.092      1\n",
              "3  1565109934094  2019-08-06T16:45:34.094      1\n",
              "4  1565109935097  2019-08-06T16:45:35.097      1"
            ]
          },
          "metadata": {
            "tags": []
          },
          "execution_count": 184
        }
      ]
    },
    {
      "cell_type": "code",
      "metadata": {
        "id": "1G-oSt5RwOq8",
        "colab_type": "code",
        "colab": {}
      },
      "source": [
        "train_time_series.drop(columns=train_time_series.columns[0],inplace=True)"
      ],
      "execution_count": null,
      "outputs": []
    },
    {
      "cell_type": "code",
      "metadata": {
        "id": "ridTwfQAwYfn",
        "colab_type": "code",
        "colab": {
          "base_uri": "https://localhost:8080/",
          "height": 204
        },
        "outputId": "1d419a44-cf0c-4201-ede1-3b481482c10c"
      },
      "source": [
        "train_time_series.head()"
      ],
      "execution_count": null,
      "outputs": [
        {
          "output_type": "execute_result",
          "data": {
            "text/html": [
              "<div>\n",
              "<style scoped>\n",
              "    .dataframe tbody tr th:only-of-type {\n",
              "        vertical-align: middle;\n",
              "    }\n",
              "\n",
              "    .dataframe tbody tr th {\n",
              "        vertical-align: top;\n",
              "    }\n",
              "\n",
              "    .dataframe thead th {\n",
              "        text-align: right;\n",
              "    }\n",
              "</style>\n",
              "<table border=\"1\" class=\"dataframe\">\n",
              "  <thead>\n",
              "    <tr style=\"text-align: right;\">\n",
              "      <th></th>\n",
              "      <th>timestamp</th>\n",
              "      <th>UTC time</th>\n",
              "      <th>accuracy</th>\n",
              "      <th>x</th>\n",
              "      <th>y</th>\n",
              "      <th>z</th>\n",
              "    </tr>\n",
              "  </thead>\n",
              "  <tbody>\n",
              "    <tr>\n",
              "      <th>0</th>\n",
              "      <td>1565109930787</td>\n",
              "      <td>2019-08-06T16:45:30.787</td>\n",
              "      <td>unknown</td>\n",
              "      <td>-0.006485</td>\n",
              "      <td>-0.934860</td>\n",
              "      <td>-0.069046</td>\n",
              "    </tr>\n",
              "    <tr>\n",
              "      <th>1</th>\n",
              "      <td>1565109930887</td>\n",
              "      <td>2019-08-06T16:45:30.887</td>\n",
              "      <td>unknown</td>\n",
              "      <td>-0.066467</td>\n",
              "      <td>-1.015442</td>\n",
              "      <td>0.089554</td>\n",
              "    </tr>\n",
              "    <tr>\n",
              "      <th>2</th>\n",
              "      <td>1565109930987</td>\n",
              "      <td>2019-08-06T16:45:30.987</td>\n",
              "      <td>unknown</td>\n",
              "      <td>-0.043488</td>\n",
              "      <td>-1.021255</td>\n",
              "      <td>0.178467</td>\n",
              "    </tr>\n",
              "    <tr>\n",
              "      <th>3</th>\n",
              "      <td>1565109931087</td>\n",
              "      <td>2019-08-06T16:45:31.087</td>\n",
              "      <td>unknown</td>\n",
              "      <td>-0.053802</td>\n",
              "      <td>-0.987701</td>\n",
              "      <td>0.068985</td>\n",
              "    </tr>\n",
              "    <tr>\n",
              "      <th>4</th>\n",
              "      <td>1565109931188</td>\n",
              "      <td>2019-08-06T16:45:31.188</td>\n",
              "      <td>unknown</td>\n",
              "      <td>-0.054031</td>\n",
              "      <td>-1.003616</td>\n",
              "      <td>0.126450</td>\n",
              "    </tr>\n",
              "  </tbody>\n",
              "</table>\n",
              "</div>"
            ],
            "text/plain": [
              "       timestamp                 UTC time  ...         y         z\n",
              "0  1565109930787  2019-08-06T16:45:30.787  ... -0.934860 -0.069046\n",
              "1  1565109930887  2019-08-06T16:45:30.887  ... -1.015442  0.089554\n",
              "2  1565109930987  2019-08-06T16:45:30.987  ... -1.021255  0.178467\n",
              "3  1565109931087  2019-08-06T16:45:31.087  ... -0.987701  0.068985\n",
              "4  1565109931188  2019-08-06T16:45:31.188  ... -1.003616  0.126450\n",
              "\n",
              "[5 rows x 6 columns]"
            ]
          },
          "metadata": {
            "tags": []
          },
          "execution_count": 186
        }
      ]
    },
    {
      "cell_type": "code",
      "metadata": {
        "id": "aq3nCxnzwbnc",
        "colab_type": "code",
        "colab": {
          "base_uri": "https://localhost:8080/",
          "height": 51
        },
        "outputId": "f83099dd-2fc3-445c-b8e8-57041e6b9025"
      },
      "source": [
        "print(train_time_series.shape)\n",
        "print(train_labels.shape)"
      ],
      "execution_count": null,
      "outputs": [
        {
          "output_type": "stream",
          "text": [
            "(3744, 6)\n",
            "(375, 3)\n"
          ],
          "name": "stdout"
        }
      ]
    },
    {
      "cell_type": "code",
      "metadata": {
        "id": "LtqQGwKow5XF",
        "colab_type": "code",
        "colab": {}
      },
      "source": [
        "l = []\n",
        "j=0\n",
        "for i in range(train_time_series.shape[0]):\n",
        "  l.append(train_labels[\"label\"][j])\n",
        "  if i%10 == 0:\n",
        "    j+=1\n",
        "  if j == 375:\n",
        "    j=374\n",
        "train_time_series[\"label\"] = l"
      ],
      "execution_count": null,
      "outputs": []
    },
    {
      "cell_type": "code",
      "metadata": {
        "id": "lB0PibX536LO",
        "colab_type": "code",
        "colab": {}
      },
      "source": [
        "logistic_regression = LogisticRegression()\n",
        "forest_classifier = RandomForestClassifier()"
      ],
      "execution_count": null,
      "outputs": []
    },
    {
      "cell_type": "code",
      "metadata": {
        "id": "Wqx-cer2468x",
        "colab_type": "code",
        "colab": {}
      },
      "source": [
        "def accuracy(estimator,X,y):\n",
        "  predictions = estimator.fit(X,y).predict(X)\n",
        "  return accuracy_score(y,predictions)"
      ],
      "execution_count": null,
      "outputs": []
    },
    {
      "cell_type": "code",
      "metadata": {
        "id": "gNgZ9i055CzT",
        "colab_type": "code",
        "colab": {}
      },
      "source": [
        "X = train_time_series[[\"timestamp\",'x','y','z']]\n",
        "y = train_time_series[\"label\"]"
      ],
      "execution_count": null,
      "outputs": []
    },
    {
      "cell_type": "code",
      "metadata": {
        "id": "htGnowdU5hMg",
        "colab_type": "code",
        "colab": {
          "base_uri": "https://localhost:8080/",
          "height": 34
        },
        "outputId": "31e11783-1d03-44a8-f61d-391766fb9dc3"
      },
      "source": [
        "accuracy(logistic_regression,X,y)"
      ],
      "execution_count": null,
      "outputs": [
        {
          "output_type": "execute_result",
          "data": {
            "text/plain": [
              "0.5689102564102564"
            ]
          },
          "metadata": {
            "tags": []
          },
          "execution_count": 192
        }
      ]
    },
    {
      "cell_type": "code",
      "metadata": {
        "id": "AQ-1NmaV5t9_",
        "colab_type": "code",
        "colab": {
          "base_uri": "https://localhost:8080/",
          "height": 34
        },
        "outputId": "56254be7-f2e2-43ee-d5a1-559064e97251"
      },
      "source": [
        "accuracy(forest_classifier,X,y)"
      ],
      "execution_count": null,
      "outputs": [
        {
          "output_type": "execute_result",
          "data": {
            "text/plain": [
              "0.999732905982906"
            ]
          },
          "metadata": {
            "tags": []
          },
          "execution_count": 193
        }
      ]
    },
    {
      "cell_type": "code",
      "metadata": {
        "id": "yFID8aoW5xvK",
        "colab_type": "code",
        "colab": {}
      },
      "source": [
        "X_test = pd.read_csv(\"/content/drive/My Drive/havardx/Using Python for Research/test_time_series.csv\")\n",
        "y_test = pd.read_csv(\"/content/drive/My Drive/havardx/Using Python for Research/test_labels.csv\")\n",
        "X_test.drop(columns = X_test.columns[0],inplace=True)\n",
        "y_test.drop(columns= y_test.columns[0], inplace=True)"
      ],
      "execution_count": null,
      "outputs": []
    },
    {
      "cell_type": "code",
      "metadata": {
        "id": "j-WJRw4G6TXB",
        "colab_type": "code",
        "colab": {
          "base_uri": "https://localhost:8080/",
          "height": 436
        },
        "outputId": "ce727ac3-9dcf-42b0-b5cc-a7e2bca0e4f4"
      },
      "source": [
        "forest_classifier.fit(X,y)\n",
        "X_test = X_test[[\"timestamp\",'x','y','z']]\n",
        "predictors = forest_classifier.predict(X_test)\n",
        "j=0\n",
        "for i in range(0,predictors.shape[0],10):\n",
        "  y_test[\"label\"][j] = round(predictors[i],0)\n",
        "  j+=1\n",
        "print(\"%s seconds\"%(time.time()-start_time))\n",
        "y_test"
      ],
      "execution_count": null,
      "outputs": [
        {
          "output_type": "stream",
          "text": [
            "1.7504372596740723 seconds\n"
          ],
          "name": "stdout"
        },
        {
          "output_type": "execute_result",
          "data": {
            "text/html": [
              "<div>\n",
              "<style scoped>\n",
              "    .dataframe tbody tr th:only-of-type {\n",
              "        vertical-align: middle;\n",
              "    }\n",
              "\n",
              "    .dataframe tbody tr th {\n",
              "        vertical-align: top;\n",
              "    }\n",
              "\n",
              "    .dataframe thead th {\n",
              "        text-align: right;\n",
              "    }\n",
              "</style>\n",
              "<table border=\"1\" class=\"dataframe\">\n",
              "  <thead>\n",
              "    <tr style=\"text-align: right;\">\n",
              "      <th></th>\n",
              "      <th>timestamp</th>\n",
              "      <th>UTC time</th>\n",
              "      <th>label</th>\n",
              "    </tr>\n",
              "  </thead>\n",
              "  <tbody>\n",
              "    <tr>\n",
              "      <th>0</th>\n",
              "      <td>1565110307041</td>\n",
              "      <td>2019-08-06T16:51:47.041</td>\n",
              "      <td>2.0</td>\n",
              "    </tr>\n",
              "    <tr>\n",
              "      <th>1</th>\n",
              "      <td>1565110308043</td>\n",
              "      <td>2019-08-06T16:51:48.043</td>\n",
              "      <td>2.0</td>\n",
              "    </tr>\n",
              "    <tr>\n",
              "      <th>2</th>\n",
              "      <td>1565110309046</td>\n",
              "      <td>2019-08-06T16:51:49.046</td>\n",
              "      <td>2.0</td>\n",
              "    </tr>\n",
              "    <tr>\n",
              "      <th>3</th>\n",
              "      <td>1565110310048</td>\n",
              "      <td>2019-08-06T16:51:50.048</td>\n",
              "      <td>2.0</td>\n",
              "    </tr>\n",
              "    <tr>\n",
              "      <th>4</th>\n",
              "      <td>1565110311050</td>\n",
              "      <td>2019-08-06T16:51:51.050</td>\n",
              "      <td>2.0</td>\n",
              "    </tr>\n",
              "    <tr>\n",
              "      <th>...</th>\n",
              "      <td>...</td>\n",
              "      <td>...</td>\n",
              "      <td>...</td>\n",
              "    </tr>\n",
              "    <tr>\n",
              "      <th>120</th>\n",
              "      <td>1565110427366</td>\n",
              "      <td>2019-08-06T16:53:47.366</td>\n",
              "      <td>2.0</td>\n",
              "    </tr>\n",
              "    <tr>\n",
              "      <th>121</th>\n",
              "      <td>1565110428369</td>\n",
              "      <td>2019-08-06T16:53:48.369</td>\n",
              "      <td>2.0</td>\n",
              "    </tr>\n",
              "    <tr>\n",
              "      <th>122</th>\n",
              "      <td>1565110429371</td>\n",
              "      <td>2019-08-06T16:53:49.371</td>\n",
              "      <td>2.0</td>\n",
              "    </tr>\n",
              "    <tr>\n",
              "      <th>123</th>\n",
              "      <td>1565110430373</td>\n",
              "      <td>2019-08-06T16:53:50.373</td>\n",
              "      <td>2.0</td>\n",
              "    </tr>\n",
              "    <tr>\n",
              "      <th>124</th>\n",
              "      <td>1565110431376</td>\n",
              "      <td>2019-08-06T16:53:51.376</td>\n",
              "      <td>2.0</td>\n",
              "    </tr>\n",
              "  </tbody>\n",
              "</table>\n",
              "<p>125 rows × 3 columns</p>\n",
              "</div>"
            ],
            "text/plain": [
              "         timestamp                 UTC time  label\n",
              "0    1565110307041  2019-08-06T16:51:47.041    2.0\n",
              "1    1565110308043  2019-08-06T16:51:48.043    2.0\n",
              "2    1565110309046  2019-08-06T16:51:49.046    2.0\n",
              "3    1565110310048  2019-08-06T16:51:50.048    2.0\n",
              "4    1565110311050  2019-08-06T16:51:51.050    2.0\n",
              "..             ...                      ...    ...\n",
              "120  1565110427366  2019-08-06T16:53:47.366    2.0\n",
              "121  1565110428369  2019-08-06T16:53:48.369    2.0\n",
              "122  1565110429371  2019-08-06T16:53:49.371    2.0\n",
              "123  1565110430373  2019-08-06T16:53:50.373    2.0\n",
              "124  1565110431376  2019-08-06T16:53:51.376    2.0\n",
              "\n",
              "[125 rows x 3 columns]"
            ]
          },
          "metadata": {
            "tags": []
          },
          "execution_count": 195
        }
      ]
    },
    {
      "cell_type": "code",
      "metadata": {
        "id": "kF50o-alB3SN",
        "colab_type": "code",
        "colab": {}
      },
      "source": [
        "y_test.to_csv(\"test_labels.csv\")"
      ],
      "execution_count": null,
      "outputs": []
    }
  ]
}