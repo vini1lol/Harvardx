{
  "nbformat": 4,
  "nbformat_minor": 0,
  "metadata": {
    "colab": {
      "name": "CaseStudy7HomeWork.ipynb",
      "provenance": [],
      "authorship_tag": "ABX9TyNRBnBt2+z0zgZdSfyRwRpD",
      "include_colab_link": true
    },
    "kernelspec": {
      "name": "python3",
      "display_name": "Python 3"
    }
  },
  "cells": [
    {
      "cell_type": "markdown",
      "metadata": {
        "id": "view-in-github",
        "colab_type": "text"
      },
      "source": [
        "<a href=\"https://colab.research.google.com/github/vini1lol/Harvardx/blob/master/CaseStudy7HomeWork.ipynb\" target=\"_parent\"><img src=\"https://colab.research.google.com/assets/colab-badge.svg\" alt=\"Open In Colab\"/></a>"
      ]
    },
    {
      "cell_type": "markdown",
      "metadata": {
        "id": "AQPaDWBCQ9sD",
        "colab_type": "text"
      },
      "source": [
        "# Using Python for Research Homework: Week 5, Case Study Part 1\n",
        "\n",
        "The [movie dataset on which this case study is based](https://www.kaggle.com/tmdb/tmdb-movie-metadata) is a database of 5000 movies catalogued by [The Movie Database (TMDb)](https://www.themoviedb.org/?language=en). The information available about each movie is its budget, revenue, rating, actors and actresses, etc. In this case study, we will use this dataset to determine whether any information about a movie can predict the total revenue of a movie. We will also attempt to predict whether a movie's revenue will exceed its budget.\n",
        "\n",
        "In Part 1, we will inspect, clean, and transform the data."
      ]
    },
    {
      "cell_type": "markdown",
      "metadata": {
        "id": "PiEfwX1VRCIu",
        "colab_type": "text"
      },
      "source": [
        "### Exercise 1\n",
        "\n",
        "First, we will import several libraries. `scikit-learn` (**sklearn**) contains helpful statistical models, and we'll use the `matplotlib.pyplot` library for visualizations. Of course, we will use `numpy` and `pandas` for data manipulation throughout.\n",
        "\n",
        "#### Instructions \n",
        "\n",
        "- Read and execute the given code.\n",
        "- Call `df.head()` to take a look at the data."
      ]
    },
    {
      "cell_type": "code",
      "metadata": {
        "id": "_D4rnDLSQP3I",
        "colab_type": "code",
        "outputId": "19095295-fd30-49c7-ce52-184d69ff0f77",
        "colab": {
          "base_uri": "https://localhost:8080/",
          "height": 51
        }
      },
      "source": [
        "import pandas as pd\n",
        "import numpy as np\n",
        "\n",
        "from sklearn.model_selection import cross_val_predict\n",
        "from sklearn.linear_model import LinearRegression\n",
        "from sklearn.linear_model import LogisticRegression\n",
        "from sklearn.ensemble import RandomForestRegressor\n",
        "from sklearn.ensemble import RandomForestClassifier\n",
        "from sklearn.metrics import accuracy_score\n",
        "from sklearn.metrics import r2_score\n",
        "\n",
        "import matplotlib.pyplot as plt\n",
        "\n",
        "df = pd.read_csv(\"https://courses.edx.org/asset-v1:HarvardX+PH526x+2T2019+type@asset+block@movie_data.csv\", index_col=0)\n",
        "\n",
        "df.head(1).original_title"
      ],
      "execution_count": 0,
      "outputs": [
        {
          "output_type": "execute_result",
          "data": {
            "text/plain": [
              "0    Avatar\n",
              "Name: original_title, dtype: object"
            ]
          },
          "metadata": {
            "tags": []
          },
          "execution_count": 96
        }
      ]
    },
    {
      "cell_type": "markdown",
      "metadata": {
        "id": "jYc_400MRGnt",
        "colab_type": "text"
      },
      "source": [
        "### Exercise 2\n",
        "\n",
        "In this exercise, we will define the regression and classification outcomes. Specifically, we will use the `revenue` column as the target for regression. For classification, we will construct an indicator of profitability for each movie.\n",
        "\n",
        "#### Instructions \n",
        "- Create a new column in `df` called `profitable`, defined as 1 if the movie `revenue` is greater than the movie `budget`, and 0 otherwise.\n",
        "- Next, define and store the outcomes we will use for regression and classification.\n",
        "    - Define `regression_target` as the string `'revenue'`.\n",
        "    - Define `classification_target` as the string `'profitable'`."
      ]
    },
    {
      "cell_type": "code",
      "metadata": {
        "id": "QuLI36UVRJfl",
        "colab_type": "code",
        "outputId": "d74c784e-5fd8-40f7-e05e-cc2e6ea1def8",
        "colab": {
          "base_uri": "https://localhost:8080/",
          "height": 34
        }
      },
      "source": [
        "profitable = []\n",
        "for j in range(df.shape[0]):\n",
        "  if df.revenue[j] > df.budget[j]:\n",
        "    profitable.append(1)\n",
        "  else:\n",
        "    profitable.append(0)\n",
        "df[\"profitable\"] = profitable\n",
        "regression_target = 'revenue'\n",
        "classification_target = 'profitable'\n",
        "sum(df.profitable == 1)"
      ],
      "execution_count": 0,
      "outputs": [
        {
          "output_type": "execute_result",
          "data": {
            "text/plain": [
              "2585"
            ]
          },
          "metadata": {
            "tags": []
          },
          "execution_count": 97
        }
      ]
    },
    {
      "cell_type": "markdown",
      "metadata": {
        "id": "m-rv-OWaRMOn",
        "colab_type": "text"
      },
      "source": [
        "### Exercise 3\n",
        "\n",
        "For simplicity, we will proceed by analyzing only the rows without any missing data. In this exercise, we will remove rows with any infinite or missing values.\n",
        "\n",
        "#### Instructions \n",
        "\n",
        "- Use `df.replace()` to replace any cells with type `np.inf` or `-np.inf` with `np.nan`.\n",
        "- Drop all rows with any `np.nan` values in that row using `df.dropna()`. Do any further arguments need to be specified in this function to remove rows with any such values?"
      ]
    },
    {
      "cell_type": "code",
      "metadata": {
        "id": "ljhPb1JPRPC7",
        "colab_type": "code",
        "outputId": "06407e0d-c978-41fa-b5f2-23c01aaec1a0",
        "colab": {
          "base_uri": "https://localhost:8080/",
          "height": 34
        }
      },
      "source": [
        "df.replace(to_replace=[np.inf,-np.inf], value= np.nan, inplace=True)\n",
        "df.dropna(inplace=True)\n",
        "df.shape"
      ],
      "execution_count": 0,
      "outputs": [
        {
          "output_type": "execute_result",
          "data": {
            "text/plain": [
              "(1406, 23)"
            ]
          },
          "metadata": {
            "tags": []
          },
          "execution_count": 98
        }
      ]
    },
    {
      "cell_type": "markdown",
      "metadata": {
        "id": "LH13177YRRhd",
        "colab_type": "text"
      },
      "source": [
        "### Exercise 4\n",
        "\n",
        "Many of the variables in our dataframe contain the names of genre, actors/actresses, and keywords. Let's add indicator columns for each genre.\n",
        "\n",
        "#### Instructions \n",
        "\n",
        "- Determine all the genres in the genre column. Make sure to use the `strip()` function on each genre to remove trailing characters.\n",
        "- Next, include each listed genre as a new column in the dataframe. Each element of these genre columns should be 1 if the movie belongs to that particular genre, and 0 otherwise. Keep in mind, a movie may belong to several genres at once.\n",
        "- Call `df[genres].head()` to view your results."
      ]
    },
    {
      "cell_type": "code",
      "metadata": {
        "id": "Dqz2awR3RT5D",
        "colab_type": "code",
        "outputId": "e1130c62-d00f-4e3e-f1e0-88419bbb24dc",
        "colab": {
          "base_uri": "https://localhost:8080/",
          "height": 34
        }
      },
      "source": [
        "list_genres = df.genres.apply(lambda x: x.split(\",\"))\n",
        "genres = []\n",
        "for row in list_genres:\n",
        "    row = [genre.strip() for genre in row]\n",
        "    for genre in row:\n",
        "        if genre not in genres:\n",
        "            genres.append(genre)\n",
        "for genre in genres:\n",
        "    df[genre] = df['genres'].str.contains(genre).astype(int)\n",
        "    \n",
        "df[genres].head()\n",
        "len(genres)"
      ],
      "execution_count": 0,
      "outputs": [
        {
          "output_type": "execute_result",
          "data": {
            "text/plain": [
              "20"
            ]
          },
          "metadata": {
            "tags": []
          },
          "execution_count": 99
        }
      ]
    },
    {
      "cell_type": "markdown",
      "metadata": {
        "id": "FwWvJJ--RV5Y",
        "colab_type": "text"
      },
      "source": [
        "### Exercise 5\n",
        "\n",
        "Some variables in the dataset are already numeric and perhaps useful for regression and classification. In this exercise, we will store the names of these variables for future use. We will also take a look at some of the continuous variables and outcomes by plotting each pair in a scatter plot. Finally, we will evaluate the skew of each variable.\n",
        "\n",
        "#### Instructions \n",
        "- Call `plt.show()` to observe the plot below.\n",
        "    - Which of the covariates and/or outcomes are correlated with each other?\n",
        "- Call `skew()` on the columns `outcomes_and_continuous_covariates` in df.\n",
        "    - Is the skew above 1 for any of these variables?"
      ]
    },
    {
      "cell_type": "code",
      "metadata": {
        "id": "svVvdrRoRYRh",
        "colab_type": "code",
        "outputId": "b5db171a-a5ce-49cd-8b0e-dd713cba8295",
        "colab": {
          "base_uri": "https://localhost:8080/",
          "height": 420
        }
      },
      "source": [
        "continuous_covariates = ['budget', 'popularity', 'runtime', 'vote_count', 'vote_average']\n",
        "outcomes_and_continuous_covariates = continuous_covariates + [regression_target, classification_target]\n",
        "plotting_variables = ['budget', 'popularity', regression_target]\n",
        "\n",
        "axes = pd.plotting.scatter_matrix(df[plotting_variables], alpha=0.15, \\\n",
        "       color=(0,0,0), hist_kwds={\"color\":(0,0,0)}, facecolor=(1,0,0))\n",
        "plt.show()\n",
        "\n",
        "print(df[outcomes_and_continuous_covariates].skew())"
      ],
      "execution_count": 0,
      "outputs": [
        {
          "output_type": "display_data",
          "data": {
            "image/png": "[encoded data removed]",
            "text/plain": [
              "<Figure size 432x288 with 9 Axes>"
            ]
          },
          "metadata": {
            "tags": [],
            "needs_background": "light"
          }
        },
        {
          "output_type": "stream",
          "text": [
            "budget          1.754872\n",
            "popularity      7.968139\n",
            "runtime         1.059804\n",
            "vote_count      2.461041\n",
            "vote_average   -1.080038\n",
            "revenue         3.084680\n",
            "profitable     -1.081030\n",
            "dtype: float64\n"
          ],
          "name": "stdout"
        }
      ]
    },
    {
      "cell_type": "markdown",
      "metadata": {
        "id": "TF9Li1UuRaVf",
        "colab_type": "text"
      },
      "source": [
        "### Exercise 6\n",
        "\n",
        "It appears that the variables `budget`, `popularity`, `runtime`, `vote_count`, and `revenue` are all right-skewed. In this exercise, we will transform these variables to eliminate this skewness. Specifically, we will use the `np.log10()` method. Because some of these variable values are exactly 0, we will add a small positive value to each to ensure it is defined; this is necessary because log(0) is negative infinity.\n",
        "\n",
        "#### Instructions \n",
        "- For each above-mentioned variable in `df`, transform value `x` into `np.log10(1+x)`."
      ]
    },
    {
      "cell_type": "code",
      "metadata": {
        "id": "50S6QBRnRcpu",
        "colab_type": "code",
        "outputId": "56ba7a8e-69ac-4860-c9ac-35d7ba97223e",
        "colab": {
          "base_uri": "https://localhost:8080/",
          "height": 34
        }
      },
      "source": [
        "for covariate in ['budget', 'popularity', 'runtime', 'vote_count', 'revenue']:\n",
        "    df[covariate] = df[covariate].apply(lambda x: np.log10(1+x))\n",
        "df['runtime'].skew()"
      ],
      "execution_count": 0,
      "outputs": [
        {
          "output_type": "execute_result",
          "data": {
            "text/plain": [
              "0.5304890161265846"
            ]
          },
          "metadata": {
            "tags": []
          },
          "execution_count": 101
        }
      ]
    },
    {
      "cell_type": "markdown",
      "metadata": {
        "id": "-jFYrnqaRerF",
        "colab_type": "text"
      },
      "source": [
        "### Exercise 7\n",
        "\n",
        "Let's now save our dataset. \n",
        "\n",
        "#### Instructions \n",
        "- Use `to_csv()` to save the `df` object as `movies_clean.csv`."
      ]
    },
    {
      "cell_type": "code",
      "metadata": {
        "id": "uKYaEatvRgqL",
        "colab_type": "code",
        "colab": {}
      },
      "source": [
        "df.to_csv(\"movies_clean.csv\")"
      ],
      "execution_count": 0,
      "outputs": []
    },
    {
      "cell_type": "markdown",
      "metadata": {
        "id": "vYmLu5RfwIST",
        "colab_type": "text"
      },
      "source": [
        "# Part 2"
      ]
    },
    {
      "cell_type": "code",
      "metadata": {
        "id": "GC311xlFzQwk",
        "colab_type": "code",
        "colab": {}
      },
      "source": [
        "import pandas as pd\n",
        "import numpy as np\n",
        "\n",
        "from sklearn.model_selection import cross_val_score\n",
        "from sklearn.linear_model import LinearRegression\n",
        "from sklearn.linear_model import LogisticRegression\n",
        "from sklearn.ensemble import RandomForestRegressor\n",
        "from sklearn.ensemble import RandomForestClassifier\n",
        "\n",
        "from sklearn.metrics import accuracy_score\n",
        "from sklearn.metrics import r2_score\n",
        "\n",
        "import matplotlib.pyplot as plt\n",
        "\n",
        "import warnings\n",
        "warnings.filterwarnings(\"ignore\")"
      ],
      "execution_count": 0,
      "outputs": []
    },
    {
      "cell_type": "markdown",
      "metadata": {
        "id": "NY7crNhKwPpa",
        "colab_type": "text"
      },
      "source": [
        "### Exercise 1\n",
        "\n",
        "In Part 2 of this case study, we will primarily use the two models we recently discussed: linear/logistic regression and random forests to perform prediction and classification. We will use these methods to predict revenue, and we will use logistic regression to classify whether a movie was profitable.\n",
        "\n",
        "In this exercise, we will instantiate regression and classification models. Code is provided that prepares the covariates and outcomes we will use for data analysis.\n",
        "\n",
        "#### Instructions\n",
        "- Instantiate `LinearRegression()`, `LogisticRegression()`, `RandomForestRegressor()`, and `RandomForestClassifier()` objects, and assign them to `linear_regression`, `logistic_regression`, `forest_regression`, and `forest_classifier`, respectively.\n",
        "- For the random forests models, specify `max_depth=4` and `random_state=0`."
      ]
    },
    {
      "cell_type": "code",
      "metadata": {
        "id": "NuXb-Ph-wLDa",
        "colab_type": "code",
        "colab": {}
      },
      "source": [
        "# Define all covariates and outcomes from `df`.\n",
        "regression_target = 'revenue'\n",
        "classification_target = 'profitable'\n",
        "all_covariates = ['budget', 'popularity', 'runtime', 'vote_count', 'vote_average', 'Action', 'Adventure', 'Fantasy', \n",
        "                  'Science Fiction', 'Crime', 'Drama', 'Thriller', 'Animation', 'Family', 'Western', 'Comedy', 'Romance', \n",
        "                  'Horror', 'Mystery', 'War', 'History', 'Music', 'Documentary', 'TV Movie', 'Foreign']\n",
        "\n",
        "regression_outcome = df[regression_target]\n",
        "classification_outcome = df[classification_target]\n",
        "covariates = df[all_covariates]\n",
        "\n",
        "# Instantiate all regression models and classifiers.\n",
        "linear_regression = LinearRegression()\n",
        "logistic_regression = LogisticRegression()\n",
        "forest_regression = RandomForestRegressor(max_depth= 4, random_state= 0)\n",
        "forest_classifier = RandomForestClassifier(max_depth= 4, random_state= 0)"
      ],
      "execution_count": 0,
      "outputs": []
    },
    {
      "cell_type": "markdown",
      "metadata": {
        "id": "Qwh5IksCwTBE",
        "colab_type": "text"
      },
      "source": [
        "### Exercise 2\n",
        "\n",
        "In this exercise, we will create two functions that compute a model's score. For regression models, we will use correlation as the score. For classification models, we will use accuracy as the score.\n",
        "\n",
        "#### Instructions \n",
        "- Define a function called `correlation` with arguments `estimator`, `X`, and `y`. The function should compute the correlation between the observed outcome `y` and the outcome predicted by the model.\n",
        "    - To obtain predictions, the function should first use the `fit` method of `estimator` and then use the `predict` method from the fitted object.\n",
        "    - The function should return the first argument from `r2_score` comparing `predictions` and `y`.\n",
        "- Define a function called `accuracy` with the same arguments and code, substituting `accuracy_score` for `r2_score`."
      ]
    },
    {
      "cell_type": "code",
      "metadata": {
        "id": "pupVAc2ZwUsD",
        "colab_type": "code",
        "colab": {}
      },
      "source": [
        "def correlation(estimator,X,y):\n",
        "  predictions = estimator.fit(X,y).predict(X)\n",
        "  return r2_score(y,predictions)\n",
        "\n",
        "def accuracy(estimator,X,y):\n",
        "  predictions = estimator.fit(X,y).predict(X)\n",
        "  return accuracy_score(y,predictions)"
      ],
      "execution_count": 0,
      "outputs": []
    },
    {
      "cell_type": "markdown",
      "metadata": {
        "id": "hsubRId1wWW7",
        "colab_type": "text"
      },
      "source": [
        "### Exercise 3\n",
        "\n",
        "In this exercise, we will compute the cross-validated performance for the linear and random forest regression models.\n",
        "\n",
        "#### Instructions \n",
        "\n",
        "- Call `cross_val_score` using `linear_regression` and `forest regression` as models. Store the output as `linear_regression_scores` and `forest_regression_scores`, respectively.\n",
        "    - Set the parameters `cv=10` to use 10-fold cross-validation and `scoring=correlation` to use our `correlation` function defined in the previous exercise.\n",
        "- Plotting code has been provided to compare the performance of the two models. Use `plt.show()` to plot the correlation between actual and predicted revenue for each cross-validation fold using the linear and random forest regression models.\n",
        "- Which of the two models exhibits a better fit?"
      ]
    },
    {
      "cell_type": "code",
      "metadata": {
        "id": "VjI5S3PPwX8b",
        "colab_type": "code",
        "outputId": "2feb8f1e-20b4-471e-892d-d43a6cd57a63",
        "colab": {
          "base_uri": "https://localhost:8080/",
          "height": 283
        }
      },
      "source": [
        "# Determine the cross-validated correlation for linear and random forest models.\n",
        "linear_regression_scores = cross_val_score(linear_regression,covariates,regression_outcome,cv=10,scoring=correlation)\n",
        "forest_regression_scores = cross_val_score(forest_regression,covariates,regression_outcome,cv=10,scoring=correlation)\n",
        "# Plot Results\n",
        "plt.axes().set_aspect('equal', 'box')\n",
        "plt.scatter(linear_regression_scores, forest_regression_scores)\n",
        "plt.plot((0, 1), (0, 1), 'k-')\n",
        "\n",
        "plt.xlim(0, 1)\n",
        "plt.ylim(0, 1)\n",
        "plt.xlabel(\"Linear Regression Score\")\n",
        "plt.ylabel(\"Forest Regression Score\")\n",
        "\n",
        "# Show the plot.\n",
        "plt.show()"
      ],
      "execution_count": 0,
      "outputs": [
        {
          "output_type": "display_data",
          "data": {
            "image/png": "[encoded data removed]",
            "text/plain": [
              "<Figure size 432x288 with 1 Axes>"
            ]
          },
          "metadata": {
            "tags": [],
            "needs_background": "light"
          }
        }
      ]
    },
    {
      "cell_type": "markdown",
      "metadata": {
        "id": "V92OEOaswaJN",
        "colab_type": "text"
      },
      "source": [
        "### Exercise 4\n",
        "\n",
        "In this exercise, we will compute cross-validated performance for the linear and random forest classification models.\n",
        "\n",
        "#### Instructions \n",
        "- Call `cross_val_score` using `logistic_regression` and `forest_classifier` as models. Store the output as `logistic_regression_scores` and `forest_classification_scores`, respectively.\n",
        "    - Set the parameters `cv=10` to use 10-fold cross-validation and `scoring=accuracy` to use our accuracy function defined in the previous exercise.\n",
        "- Plotting code has been provided to compare the performance of the two models. Use `plt.show()` to plot the accuracy of predicted profitability for each cross-validation fold using the logistic and random forest classification models.\n",
        "- Which of the two models exhibits a better fit?"
      ]
    },
    {
      "cell_type": "code",
      "metadata": {
        "id": "SA3dtInxwcCw",
        "colab_type": "code",
        "outputId": "ead2250a-771a-4e37-d0f9-d93d8f4aa087",
        "colab": {
          "base_uri": "https://localhost:8080/",
          "height": 283
        }
      },
      "source": [
        "# Determine the cross-validated accuracy for logistic and random forest models.\n",
        "logistic_regression_scores = cross_val_score(logistic_regression,covariates,classification_outcome,cv=10,scoring=accuracy)\n",
        "forest_classification_scores = cross_val_score(forest_classifier,covariates,classification_outcome,cv=10,scoring=accuracy)\n",
        "# Plot Results\n",
        "plt.axes().set_aspect('equal', 'box')\n",
        "plt.scatter(logistic_regression_scores, forest_classification_scores)\n",
        "plt.plot((0, 1), (0, 1), 'k-')\n",
        "\n",
        "plt.xlim(0, 1)\n",
        "plt.ylim(0, 1)\n",
        "plt.xlabel(\"Linear Classification Score\")\n",
        "plt.ylabel(\"Forest Classification Score\")\n",
        "\n",
        "# Show the plot.\n",
        "plt.show()"
      ],
      "execution_count": 0,
      "outputs": [
        {
          "output_type": "display_data",
          "data": {
            "image/png": "[encoded data removed]",
            "text/plain": [
              "<Figure size 432x288 with 1 Axes>"
            ]
          },
          "metadata": {
            "tags": [],
            "needs_background": "light"
          }
        }
      ]
    },
    {
      "cell_type": "markdown",
      "metadata": {
        "id": "ksx61x5VweAO",
        "colab_type": "text"
      },
      "source": [
        "### Exercise 5 \n",
        "\n",
        "In Exercise 3, we saw that predicting revenue was only moderately successful. It might be the case that predicting movies that generated precisely no revenue is difficult. In the next three exercises, we will exclude these movies, and rerun the analyses to determine if the fits improve. In this exercise, we will rerun the regression analysis for this subsetted dataset.\n",
        "\n",
        "#### Instructions \n",
        "\n",
        "- Define `positive_revenue_df` as the subset of movies in `df` with `revenue` greater than zero.\n",
        "- Code is provided below that creates new instances of model objects. Replace all instances of `df` with `positive_revenue_df`, and run the given code."
      ]
    },
    {
      "cell_type": "code",
      "metadata": {
        "id": "AOLLmntbwfzJ",
        "colab_type": "code",
        "outputId": "da9c4d50-3218-432f-a289-46f7e1f9014f",
        "colab": {
          "base_uri": "https://localhost:8080/",
          "height": 34
        }
      },
      "source": [
        "positive_revenue_df = df[df['revenue']>0]\n",
        "\n",
        "# Replace the dataframe in the following code, and run.\n",
        "\n",
        "regression_outcome = df[regression_target]\n",
        "classification_outcome = df[classification_target]\n",
        "covariates = df[all_covariates]\n",
        "\n",
        "# Reinstantiate all regression models and classifiers.\n",
        "linear_regression = LinearRegression()\n",
        "logistic_regression = LogisticRegression()\n",
        "forest_regression = RandomForestRegressor(max_depth=4, random_state=0)\n",
        "forest_classifier = RandomForestClassifier(max_depth=4, random_state=0)\n",
        "linear_regression_scores = cross_val_score(linear_regression, covariates, regression_outcome, cv=10, scoring=correlation)\n",
        "forest_regression_scores = cross_val_score(forest_regression, covariates, regression_outcome, cv=10, scoring=correlation)\n",
        "logistic_regression_scores = cross_val_score(logistic_regression, covariates, classification_outcome, cv=10, scoring=accuracy)\n",
        "forest_classification_scores = cross_val_score(forest_classifier, covariates, classification_outcome, cv=10, scoring=accuracy)\n",
        "forest_regression_scores.mean()"
      ],
      "execution_count": 0,
      "outputs": [
        {
          "output_type": "execute_result",
          "data": {
            "text/plain": [
              "0.7791138548458033"
            ]
          },
          "metadata": {
            "tags": []
          },
          "execution_count": 128
        }
      ]
    },
    {
      "cell_type": "markdown",
      "metadata": {
        "id": "HzCAzO0UwheY",
        "colab_type": "text"
      },
      "source": [
        "### Exercise 6\n",
        "\n",
        "In this exercise, we will compute the cross-validated performance for the linear and random forest regression models for positive revenue movies only.\n",
        "\n",
        "#### Instructions \n",
        "\n",
        "- Call `cross_val_score` using `linear_regression` and `forest regression` as models. Store the output as `linear_regression_scores` and `forest_regression_scores`, respectively.\n",
        "    - Set the parameters `cv=10` to use 10-fold cross-validation and `scoring=correlation` to use our `correlation` function defined in the previous exercise.\n",
        "- Plotting code has been provided to compare the performance of the two models. Use `plt.show()` to plot the correlation between actual and predicted revenue for each cross-validation fold using the linear and random forest regression models.\n",
        "- Which of the two models exhibits a better fit? Is this result different from what we observed when considering all movies?\n",
        "- Code is provided for you that prints the importance of each covariate in predicting revenue using the random forests classifier. \n",
        "    - Which variables are most important?"
      ]
    },
    {
      "cell_type": "code",
      "metadata": {
        "id": "FghOmNCvwjNK",
        "colab_type": "code",
        "outputId": "08f2c5fd-8d91-49b2-d992-25e183e015f6",
        "colab": {
          "base_uri": "https://localhost:8080/",
          "height": 708
        }
      },
      "source": [
        "# Determine the cross-validated correlation for linear and random forest models.\n",
        "linear_regression_scores = cross_val_score(linear_regression,covariates,regression_outcome,cv=10,scoring=correlation)\n",
        "forest_regression_scores = cross_val_score(forest_regression,covariates,regression_outcome,cv=10,scoring=correlation)\n",
        "# Plot Results\n",
        "plt.axes().set_aspect('equal', 'box')\n",
        "plt.scatter(linear_regression_scores, forest_regression_scores)\n",
        "plt.plot((0, 1), (0, 1), 'k-')\n",
        "\n",
        "plt.xlim(0, 1)\n",
        "plt.ylim(0, 1)\n",
        "plt.xlabel(\"Linear Regression Score\")\n",
        "plt.ylabel(\"Forest Regression Score\")\n",
        "\n",
        "# Show the plot.\n",
        "plt.show()\n",
        "# Print the importance of each covariate in the random forest regression.\n",
        "forest_regression.fit(positive_revenue_df[all_covariates], positive_revenue_df[regression_target])    \n",
        "sorted(list(zip(all_covariates, forest_regression.feature_importances_)), key=lambda tup: tup[1])"
      ],
      "execution_count": 0,
      "outputs": [
        {
          "output_type": "display_data",
          "data": {
            "image/png": "[encoded data removed]",
            "text/plain": [
              "<Figure size 432x288 with 1 Axes>"
            ]
          },
          "metadata": {
            "tags": [],
            "needs_background": "light"
          }
        },
        {
          "output_type": "execute_result",
          "data": {
            "text/plain": [
              "[('Fantasy', 0.0),\n",
              " ('Music', 0.0),\n",
              " ('TV Movie', 0.0),\n",
              " ('Foreign', 0.0),\n",
              " ('Documentary', 5.0242102884086e-05),\n",
              " ('Romance', 6.604583330722541e-05),\n",
              " ('Western', 0.00015626864826351827),\n",
              " ('Thriller', 0.000158217281902405),\n",
              " ('Mystery', 0.0001821478858827619),\n",
              " ('Horror', 0.0002001058415804382),\n",
              " ('War', 0.0002156879417358659),\n",
              " ('Action', 0.0003973119401474211),\n",
              " ('History', 0.00042239087053963845),\n",
              " ('Family', 0.0004586994511165961),\n",
              " ('Comedy', 0.0005068269265224416),\n",
              " ('Animation', 0.0009318004228489307),\n",
              " ('Science Fiction', 0.0009980285384426693),\n",
              " ('Crime', 0.0010130985717443281),\n",
              " ('Drama', 0.0013281289930063653),\n",
              " ('Adventure', 0.003080303040106713),\n",
              " ('vote_average', 0.006646714634639993),\n",
              " ('runtime', 0.01613596500607177),\n",
              " ('popularity', 0.08355296569387538),\n",
              " ('budget', 0.30757299732366267),\n",
              " ('vote_count', 0.575926053051719)]"
            ]
          },
          "metadata": {
            "tags": []
          },
          "execution_count": 129
        }
      ]
    },
    {
      "cell_type": "markdown",
      "metadata": {
        "id": "sM0Q5TETwkuj",
        "colab_type": "text"
      },
      "source": [
        "### Exercise 7\n",
        "\n",
        "In this exercise, we will compute cross-validated performance for the linear and random forest classification models for positive revenue movies only.\n",
        "\n",
        "#### Instructions \n",
        "\n",
        "- Call `cross_val_score` using `logistic_regression` and `forest classifer` as models. Store the output as `logistic_regression_scores` and `forest_classification_scores`, respectively.\n",
        "    - Set the parameters `cv=10` to use 10-fold cross-validation and `scoring=accuracy` to use our `accuracy` function defined in the previous exercise.\n",
        "- Plotting code has been provided to compare the performance of the two models. Use `plt.show()` to plot the correlation between actual and predicted revenue for each cross-validation fold using the linear and random forest regression models.\n",
        "- Which of the two models exhibits a better fit? Is this result different from what we observed when considering all movies?\n",
        "- Code is provided for you that prints the importance of each covariate in predicting profitabilitiy using the random forests classifier. \n",
        "    - Which variables are most important?"
      ]
    },
    {
      "cell_type": "code",
      "metadata": {
        "id": "OE5Zb6OGwmwx",
        "colab_type": "code",
        "outputId": "bdc2e5f8-dd4a-4d48-f49b-5be99cb6e386",
        "colab": {
          "base_uri": "https://localhost:8080/",
          "height": 708
        }
      },
      "source": [
        "# Determine the cross-validated accuracy for logistic and random forest models.\n",
        "logistic_regression_scores = cross_val_score(logistic_regression,covariates,classification_outcome,cv=10,scoring=accuracy)\n",
        "forest_classification_scores = cross_val_score(forest_classifier,covariates,classification_outcome,cv=10,scoring=accuracy)\n",
        "\n",
        "# Plot Results\n",
        "plt.axes().set_aspect('equal', 'box')\n",
        "plt.scatter(logistic_regression_scores, forest_classification_scores)\n",
        "plt.plot((0, 1), (0, 1), 'k-')\n",
        "\n",
        "plt.xlim(0, 1)\n",
        "plt.ylim(0, 1)\n",
        "plt.xlabel(\"Linear Classification Score\")\n",
        "plt.ylabel(\"Forest Classification Score\")\n",
        "\n",
        "# Show the plot.\n",
        "plt.show()\n",
        "# Print the importance of each covariate in the random forest classification.\n",
        "forest_classifier.fit(positive_revenue_df[all_covariates], positive_revenue_df[classification_target])\n",
        "sorted(list(zip(all_covariates, forest_classifier.feature_importances_)), key=lambda tup: tup[1])"
      ],
      "execution_count": 0,
      "outputs": [
        {
          "output_type": "display_data",
          "data": {
            "image/png": "[encoded data removed]",
            "text/plain": [
              "<Figure size 432x288 with 1 Axes>"
            ]
          },
          "metadata": {
            "tags": [],
            "needs_background": "light"
          }
        },
        {
          "output_type": "execute_result",
          "data": {
            "text/plain": [
              "[('TV Movie', 0.0),\n",
              " ('Horror', 0.001715202327676785),\n",
              " ('Animation', 0.0019388197444951466),\n",
              " ('Comedy', 0.0022574689899296065),\n",
              " ('Foreign', 0.0022801352325337114),\n",
              " ('Documentary', 0.002846458591904433),\n",
              " ('Romance', 0.0031608732977368944),\n",
              " ('Thriller', 0.0035569898966812397),\n",
              " ('Mystery', 0.004282452349394276),\n",
              " ('Music', 0.004308655018573079),\n",
              " ('Fantasy', 0.0051937079152913745),\n",
              " ('Western', 0.005480591973153852),\n",
              " ('Family', 0.0066609392542522055),\n",
              " ('Crime', 0.006772395781754328),\n",
              " ('History', 0.006793172805113654),\n",
              " ('Action', 0.0073412694021133835),\n",
              " ('Adventure', 0.007596959755592538),\n",
              " ('Science Fiction', 0.010816587516514861),\n",
              " ('War', 0.011275947022575308),\n",
              " ('Drama', 0.023093574562804687),\n",
              " ('runtime', 0.04154729351420867),\n",
              " ('budget', 0.08765680648089587),\n",
              " ('vote_average', 0.10261105225795153),\n",
              " ('popularity', 0.2811360280003983),\n",
              " ('vote_count', 0.36967661830845444)]"
            ]
          },
          "metadata": {
            "tags": []
          },
          "execution_count": 130
        }
      ]
    }
  ]
}