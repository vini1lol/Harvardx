{
  "nbformat": 4,
  "nbformat_minor": 0,
  "metadata": {
    "colab": {
      "name": "CaseStudy5.ipynb",
      "provenance": [],
      "mount_file_id": "13hCCfVcYyUAfK5W-DlqB1uUbi_p_BWip",
      "authorship_tag": "ABX9TyNL17FdanjP54D7VJ9zX+tq",
      "include_colab_link": true
    },
    "kernelspec": {
      "name": "python3",
      "display_name": "Python 3"
    }
  },
  "cells": [
    {
      "cell_type": "markdown",
      "metadata": {
        "id": "view-in-github",
        "colab_type": "text"
      },
      "source": [
        "<a href=\"https://colab.research.google.com/github/vini1lol/Harvardx/blob/master/CaseStudy5.ipynb\" target=\"_parent\"><img src=\"https://colab.research.google.com/assets/colab-badge.svg\" alt=\"Open In Colab\"/></a>"
      ]
    },
    {
      "cell_type": "code",
      "metadata": {
        "id": "upYZ7vQmXV_c",
        "colab_type": "code",
        "outputId": "d87372d6-293a-4abf-dad1-fc870e10ffae",
        "colab": {
          "base_uri": "https://localhost:8080/",
          "height": 204
        }
      },
      "source": [
        "import pandas as pd\n",
        "birddata = pd.read_csv(\"/content/drive/My Drive/havardx/Using Python for Research/week4/bird_tracking.csv\")\n",
        "birddata.head()"
      ],
      "execution_count": 0,
      "outputs": [
        {
          "output_type": "execute_result",
          "data": {
            "text/html": [
              "<div>\n",
              "<style scoped>\n",
              "    .dataframe tbody tr th:only-of-type {\n",
              "        vertical-align: middle;\n",
              "    }\n",
              "\n",
              "    .dataframe tbody tr th {\n",
              "        vertical-align: top;\n",
              "    }\n",
              "\n",
              "    .dataframe thead th {\n",
              "        text-align: right;\n",
              "    }\n",
              "</style>\n",
              "<table border=\"1\" class=\"dataframe\">\n",
              "  <thead>\n",
              "    <tr style=\"text-align: right;\">\n",
              "      <th></th>\n",
              "      <th>Unnamed: 0</th>\n",
              "      <th>altitude</th>\n",
              "      <th>date_time</th>\n",
              "      <th>device_info_serial</th>\n",
              "      <th>direction</th>\n",
              "      <th>latitude</th>\n",
              "      <th>longitude</th>\n",
              "      <th>speed_2d</th>\n",
              "      <th>bird_name</th>\n",
              "    </tr>\n",
              "  </thead>\n",
              "  <tbody>\n",
              "    <tr>\n",
              "      <th>0</th>\n",
              "      <td>0</td>\n",
              "      <td>71</td>\n",
              "      <td>2013-08-15 00:18:08+00</td>\n",
              "      <td>851</td>\n",
              "      <td>-150.469753</td>\n",
              "      <td>49.419860</td>\n",
              "      <td>2.120733</td>\n",
              "      <td>0.150000</td>\n",
              "      <td>Eric</td>\n",
              "    </tr>\n",
              "    <tr>\n",
              "      <th>1</th>\n",
              "      <td>1</td>\n",
              "      <td>68</td>\n",
              "      <td>2013-08-15 00:48:07+00</td>\n",
              "      <td>851</td>\n",
              "      <td>-136.151141</td>\n",
              "      <td>49.419880</td>\n",
              "      <td>2.120746</td>\n",
              "      <td>2.438360</td>\n",
              "      <td>Eric</td>\n",
              "    </tr>\n",
              "    <tr>\n",
              "      <th>2</th>\n",
              "      <td>2</td>\n",
              "      <td>68</td>\n",
              "      <td>2013-08-15 01:17:58+00</td>\n",
              "      <td>851</td>\n",
              "      <td>160.797477</td>\n",
              "      <td>49.420310</td>\n",
              "      <td>2.120885</td>\n",
              "      <td>0.596657</td>\n",
              "      <td>Eric</td>\n",
              "    </tr>\n",
              "    <tr>\n",
              "      <th>3</th>\n",
              "      <td>3</td>\n",
              "      <td>73</td>\n",
              "      <td>2013-08-15 01:47:51+00</td>\n",
              "      <td>851</td>\n",
              "      <td>32.769360</td>\n",
              "      <td>49.420359</td>\n",
              "      <td>2.120859</td>\n",
              "      <td>0.310161</td>\n",
              "      <td>Eric</td>\n",
              "    </tr>\n",
              "    <tr>\n",
              "      <th>4</th>\n",
              "      <td>4</td>\n",
              "      <td>69</td>\n",
              "      <td>2013-08-15 02:17:42+00</td>\n",
              "      <td>851</td>\n",
              "      <td>45.191230</td>\n",
              "      <td>49.420331</td>\n",
              "      <td>2.120887</td>\n",
              "      <td>0.193132</td>\n",
              "      <td>Eric</td>\n",
              "    </tr>\n",
              "  </tbody>\n",
              "</table>\n",
              "</div>"
            ],
            "text/plain": [
              "   Unnamed: 0  altitude               date_time  ...  longitude  speed_2d  bird_name\n",
              "0           0        71  2013-08-15 00:18:08+00  ...   2.120733  0.150000       Eric\n",
              "1           1        68  2013-08-15 00:48:07+00  ...   2.120746  2.438360       Eric\n",
              "2           2        68  2013-08-15 01:17:58+00  ...   2.120885  0.596657       Eric\n",
              "3           3        73  2013-08-15 01:47:51+00  ...   2.120859  0.310161       Eric\n",
              "4           4        69  2013-08-15 02:17:42+00  ...   2.120887  0.193132       Eric\n",
              "\n",
              "[5 rows x 9 columns]"
            ]
          },
          "metadata": {
            "tags": []
          },
          "execution_count": 1
        }
      ]
    },
    {
      "cell_type": "code",
      "metadata": {
        "id": "vUW0lWBtZlxJ",
        "colab_type": "code",
        "outputId": "a5d157e5-a8a0-4373-ec02-48327fb4950e",
        "colab": {
          "base_uri": "https://localhost:8080/",
          "height": 289
        }
      },
      "source": [
        "birddata.info()"
      ],
      "execution_count": 0,
      "outputs": [
        {
          "output_type": "stream",
          "text": [
            "<class 'pandas.core.frame.DataFrame'>\n",
            "RangeIndex: 61920 entries, 0 to 61919\n",
            "Data columns (total 9 columns):\n",
            " #   Column              Non-Null Count  Dtype  \n",
            "---  ------              --------------  -----  \n",
            " 0   Unnamed: 0          61920 non-null  int64  \n",
            " 1   altitude            61920 non-null  int64  \n",
            " 2   date_time           61920 non-null  object \n",
            " 3   device_info_serial  61920 non-null  int64  \n",
            " 4   direction           61477 non-null  float64\n",
            " 5   latitude            61920 non-null  float64\n",
            " 6   longitude           61920 non-null  float64\n",
            " 7   speed_2d            61477 non-null  float64\n",
            " 8   bird_name           61920 non-null  object \n",
            "dtypes: float64(4), int64(3), object(2)\n",
            "memory usage: 4.3+ MB\n"
          ],
          "name": "stdout"
        }
      ]
    },
    {
      "cell_type": "code",
      "metadata": {
        "id": "Yp6IPJgAZ6dn",
        "colab_type": "code",
        "colab": {}
      },
      "source": [
        "import matplotlib.pyplot as plt\n",
        "import numpy as np\n"
      ],
      "execution_count": 0,
      "outputs": []
    },
    {
      "cell_type": "code",
      "metadata": {
        "id": "pd6Q3I_UaUEn",
        "colab_type": "code",
        "colab": {}
      },
      "source": [
        "ix = birddata.bird_name == 'Eric'"
      ],
      "execution_count": 0,
      "outputs": []
    },
    {
      "cell_type": "code",
      "metadata": {
        "id": "zwPJrqsXaf-9",
        "colab_type": "code",
        "colab": {}
      },
      "source": [
        "x,y = birddata.latitude[ix], birddata.longitude[ix]"
      ],
      "execution_count": 0,
      "outputs": []
    },
    {
      "cell_type": "code",
      "metadata": {
        "id": "egyxeqbnaoR0",
        "colab_type": "code",
        "outputId": "4dc8daaf-4eaf-429f-d55f-778d0e29e3d4",
        "colab": {
          "base_uri": "https://localhost:8080/",
          "height": 609
        }
      },
      "source": [
        "plt.figure(figsize=(10,10))\n",
        "plt.plot(x,y,\".\")"
      ],
      "execution_count": 0,
      "outputs": [
        {
          "output_type": "execute_result",
          "data": {
            "text/plain": [
              "[<matplotlib.lines.Line2D at 0x7f45d9422b70>]"
            ]
          },
          "metadata": {
            "tags": []
          },
          "execution_count": 6
        },
        {
          "output_type": "display_data",
          "data": {
            "image/png": "[encoded data removed]",
            "text/plain": [
              "<Figure size 720x720 with 1 Axes>"
            ]
          },
          "metadata": {
            "tags": [],
            "needs_background": "light"
          }
        }
      ]
    },
    {
      "cell_type": "code",
      "metadata": {
        "id": "L7K_3yIVa3ZV",
        "colab_type": "code",
        "outputId": "1ac13c14-c325-4d6b-bf2f-37f53f6a5e45",
        "colab": {
          "base_uri": "https://localhost:8080/",
          "height": 623
        }
      },
      "source": [
        "bird_names = pd.unique(birddata.bird_name)\n",
        "plt.figure(figsize=(10,10))\n",
        "for bird_name in bird_names:\n",
        "  ix = birddata.bird_name == bird_name\n",
        "  x,y = birddata.longitude[ix], birddata.latitude[ix]\n",
        "  plt.plot(x,y,\".\",label=bird_name)\n",
        "plt.xlabel(\"Longitude\")\n",
        "plt.ylabel(\"Latitude\")\n",
        "plt.legend(loc=\"lower right\")"
      ],
      "execution_count": 0,
      "outputs": [
        {
          "output_type": "execute_result",
          "data": {
            "text/plain": [
              "<matplotlib.legend.Legend at 0x7f45d8f81e80>"
            ]
          },
          "metadata": {
            "tags": []
          },
          "execution_count": 7
        },
        {
          "output_type": "display_data",
          "data": {
            "image/png": "[encoded data removed]",
            "text/plain": [
              "<Figure size 720x720 with 1 Axes>"
            ]
          },
          "metadata": {
            "tags": [],
            "needs_background": "light"
          }
        }
      ]
    },
    {
      "cell_type": "code",
      "metadata": {
        "id": "WKxaUIMlcMvt",
        "colab_type": "code",
        "outputId": "c3751f78-74e5-4f03-e543-b031ee0ba1cd",
        "colab": {
          "base_uri": "https://localhost:8080/",
          "height": 455
        }
      },
      "source": [
        "ix = birddata.bird_name == \"Eric\"\n",
        "speed = birddata.speed_2d[ix]\n",
        "plt.hist(speed)"
      ],
      "execution_count": 0,
      "outputs": [
        {
          "output_type": "stream",
          "text": [
            "/usr/local/lib/python3.6/dist-packages/numpy/lib/histograms.py:839: RuntimeWarning: invalid value encountered in greater_equal\n",
            "  keep = (tmp_a >= first_edge)\n",
            "/usr/local/lib/python3.6/dist-packages/numpy/lib/histograms.py:840: RuntimeWarning: invalid value encountered in less_equal\n",
            "  keep &= (tmp_a <= last_edge)\n"
          ],
          "name": "stderr"
        },
        {
          "output_type": "execute_result",
          "data": {
            "text/plain": [
              "(array([1.7732e+04, 1.5020e+03, 3.6900e+02, 7.8000e+01, 1.2000e+01,\n",
              "        7.0000e+00, 3.0000e+00, 2.0000e+00, 3.0000e+00, 2.0000e+00]),\n",
              " array([ 0.        ,  6.34880658, 12.69761316, 19.04641974, 25.39522632,\n",
              "        31.7440329 , 38.09283948, 44.44164607, 50.79045265, 57.13925923,\n",
              "        63.48806581]),\n",
              " <a list of 10 Patch objects>)"
            ]
          },
          "metadata": {
            "tags": []
          },
          "execution_count": 8
        },
        {
          "output_type": "display_data",
          "data": {
            "image/png": "[encoded data removed]",
            "text/plain": [
              "<Figure size 432x288 with 1 Axes>"
            ]
          },
          "metadata": {
            "tags": [],
            "needs_background": "light"
          }
        }
      ]
    },
    {
      "cell_type": "code",
      "metadata": {
        "id": "_UEfuqPudf0k",
        "colab_type": "code",
        "outputId": "7e4f26cf-5f5c-4f72-b625-e0100b03ba54",
        "colab": {
          "base_uri": "https://localhost:8080/",
          "height": 34
        }
      },
      "source": [
        "np.isnan(speed).any()"
      ],
      "execution_count": 0,
      "outputs": [
        {
          "output_type": "execute_result",
          "data": {
            "text/plain": [
              "True"
            ]
          },
          "metadata": {
            "tags": []
          },
          "execution_count": 9
        }
      ]
    },
    {
      "cell_type": "code",
      "metadata": {
        "id": "vtwDI_cqdk-t",
        "colab_type": "code",
        "outputId": "e4c2dfff-46fd-4c0b-9d03-cb555d1a1efd",
        "colab": {
          "base_uri": "https://localhost:8080/",
          "height": 34
        }
      },
      "source": [
        "np.sum(np.isnan(speed))"
      ],
      "execution_count": 0,
      "outputs": [
        {
          "output_type": "execute_result",
          "data": {
            "text/plain": [
              "85"
            ]
          },
          "metadata": {
            "tags": []
          },
          "execution_count": 10
        }
      ]
    },
    {
      "cell_type": "code",
      "metadata": {
        "id": "LfzSqB3rd_jq",
        "colab_type": "code",
        "colab": {}
      },
      "source": [
        "ind = np.isnan(speed)"
      ],
      "execution_count": 0,
      "outputs": []
    },
    {
      "cell_type": "code",
      "metadata": {
        "id": "jmjzdI9zeGYf",
        "colab_type": "code",
        "outputId": "23600f80-a4be-4195-e4ff-9a21f76db92e",
        "colab": {
          "base_uri": "https://localhost:8080/",
          "height": 623
        }
      },
      "source": [
        "ix = birddata.bird_name == \"Eric\"\n",
        "speed = birddata.speed_2d[ix]\n",
        "ind = np.isnan(speed)\n",
        "plt.figure(figsize=(10,10))\n",
        "plt.hist(speed[~ind], bins=np.linspace(0,30,20))\n",
        "plt.xlabel(\"2D speed (m/s)\")\n",
        "plt.ylabel(\"Frequency\")"
      ],
      "execution_count": 0,
      "outputs": [
        {
          "output_type": "execute_result",
          "data": {
            "text/plain": [
              "Text(0, 0.5, 'Frequency')"
            ]
          },
          "metadata": {
            "tags": []
          },
          "execution_count": 12
        },
        {
          "output_type": "display_data",
          "data": {
            "image/png": "[encoded data removed]",
            "text/plain": [
              "<Figure size 720x720 with 1 Axes>"
            ]
          },
          "metadata": {
            "tags": [],
            "needs_background": "light"
          }
        }
      ]
    },
    {
      "cell_type": "code",
      "metadata": {
        "id": "v915JB7seUSa",
        "colab_type": "code",
        "outputId": "39c61ce2-4446-4ac7-9de3-66774804a38f",
        "colab": {
          "base_uri": "https://localhost:8080/",
          "height": 296
        }
      },
      "source": [
        "birddata.speed_2d.plot(kind=\"hist\", range=[0,30])\n",
        "plt.xlabel(\"2D speed\")"
      ],
      "execution_count": 0,
      "outputs": [
        {
          "output_type": "execute_result",
          "data": {
            "text/plain": [
              "Text(0.5, 0, '2D speed')"
            ]
          },
          "metadata": {
            "tags": []
          },
          "execution_count": 13
        },
        {
          "output_type": "display_data",
          "data": {
            "image/png": "[encoded data removed]",
            "text/plain": [
              "<Figure size 432x288 with 1 Axes>"
            ]
          },
          "metadata": {
            "tags": [],
            "needs_background": "light"
          }
        }
      ]
    },
    {
      "cell_type": "code",
      "metadata": {
        "id": "23sJCHdQf0Cg",
        "colab_type": "code",
        "outputId": "7218c466-f9f4-463a-b995-d6f3819b5206",
        "colab": {
          "base_uri": "https://localhost:8080/",
          "height": 34
        }
      },
      "source": [
        "import datetime\n",
        "datetime.datetime.today()"
      ],
      "execution_count": 0,
      "outputs": [
        {
          "output_type": "execute_result",
          "data": {
            "text/plain": [
              "datetime.datetime(2020, 5, 6, 11, 25, 54, 612152)"
            ]
          },
          "metadata": {
            "tags": []
          },
          "execution_count": 14
        }
      ]
    },
    {
      "cell_type": "code",
      "metadata": {
        "id": "l9-MXxWiiOQ_",
        "colab_type": "code",
        "outputId": "e3348a67-4da7-4053-d962-30733b98dc9f",
        "colab": {
          "base_uri": "https://localhost:8080/",
          "height": 34
        }
      },
      "source": [
        "date_str=birddata.date_time[0]\n",
        "datetime.datetime.strptime(date_str[:-3],\"%Y-%m-%d %H:%M:%S\")"
      ],
      "execution_count": 0,
      "outputs": [
        {
          "output_type": "execute_result",
          "data": {
            "text/plain": [
              "datetime.datetime(2013, 8, 15, 0, 18, 8)"
            ]
          },
          "metadata": {
            "tags": []
          },
          "execution_count": 15
        }
      ]
    },
    {
      "cell_type": "code",
      "metadata": {
        "id": "vwh1qbxcjNbr",
        "colab_type": "code",
        "outputId": "b652f115-7a83-46cd-b8ce-0d22ab5d95b0",
        "colab": {
          "base_uri": "https://localhost:8080/",
          "height": 102
        }
      },
      "source": [
        "timestamps = []\n",
        "for k in range(len(birddata)):\n",
        "  timestamps.append(datetime.datetime.strptime(birddata.date_time.iloc[k][:-3],\"%Y-%m-%d %H:%M:%S\"))\n",
        "timestamps[:5]"
      ],
      "execution_count": 0,
      "outputs": [
        {
          "output_type": "execute_result",
          "data": {
            "text/plain": [
              "[datetime.datetime(2013, 8, 15, 0, 18, 8),\n",
              " datetime.datetime(2013, 8, 15, 0, 48, 7),\n",
              " datetime.datetime(2013, 8, 15, 1, 17, 58),\n",
              " datetime.datetime(2013, 8, 15, 1, 47, 51),\n",
              " datetime.datetime(2013, 8, 15, 2, 17, 42)]"
            ]
          },
          "metadata": {
            "tags": []
          },
          "execution_count": 16
        }
      ]
    },
    {
      "cell_type": "code",
      "metadata": {
        "id": "dIEpSVuUkL5D",
        "colab_type": "code",
        "colab": {}
      },
      "source": [
        "birddata[\"timestamps\"] = pd.Series(timestamps,index=birddata.index) "
      ],
      "execution_count": 0,
      "outputs": []
    },
    {
      "cell_type": "code",
      "metadata": {
        "id": "jm0E_Xouk-mu",
        "colab_type": "code",
        "outputId": "15867fe6-81f4-48e0-b3ae-4d8247f93322",
        "colab": {
          "base_uri": "https://localhost:8080/",
          "height": 34
        }
      },
      "source": [
        "times = birddata.timestamps[birddata.bird_name == \"Eric\"]\n",
        "elapsed_time = [time-times[0] for time in times]\n",
        "elapsed_time[100]"
      ],
      "execution_count": 0,
      "outputs": [
        {
          "output_type": "execute_result",
          "data": {
            "text/plain": [
              "Timedelta('1 days 05:24:41')"
            ]
          },
          "metadata": {
            "tags": []
          },
          "execution_count": 18
        }
      ]
    },
    {
      "cell_type": "code",
      "metadata": {
        "id": "2d5g0l7jlqVh",
        "colab_type": "code",
        "outputId": "147a8104-d4bb-4603-bc3d-16e57e4521d9",
        "colab": {
          "base_uri": "https://localhost:8080/",
          "height": 34
        }
      },
      "source": [
        "elapsed_time[100]/ datetime.timedelta(days=1)"
      ],
      "execution_count": 0,
      "outputs": [
        {
          "output_type": "execute_result",
          "data": {
            "text/plain": [
              "1.225474537037037"
            ]
          },
          "metadata": {
            "tags": []
          },
          "execution_count": 19
        }
      ]
    },
    {
      "cell_type": "code",
      "metadata": {
        "id": "wXKbrL5DnA7R",
        "colab_type": "code",
        "outputId": "ae3fa456-7cbf-46f9-f803-42f120e039d3",
        "colab": {
          "base_uri": "https://localhost:8080/",
          "height": 34
        }
      },
      "source": [
        "elapsed_time[100]/ datetime.timedelta(hours =1)"
      ],
      "execution_count": 0,
      "outputs": [
        {
          "output_type": "execute_result",
          "data": {
            "text/plain": [
              "29.41138888888889"
            ]
          },
          "metadata": {
            "tags": []
          },
          "execution_count": 20
        }
      ]
    },
    {
      "cell_type": "code",
      "metadata": {
        "id": "ygF_lvzXnKhs",
        "colab_type": "code",
        "outputId": "3c7c1d61-4c89-4db8-de8a-8361ba917dc2",
        "colab": {
          "base_uri": "https://localhost:8080/",
          "height": 296
        }
      },
      "source": [
        "plt.plot(np.array(elapsed_time) / datetime.timedelta(days=1))\n",
        "plt.xlabel(\"Observations\")\n",
        "plt.ylabel(\"Elapsed time (days)\")"
      ],
      "execution_count": 0,
      "outputs": [
        {
          "output_type": "execute_result",
          "data": {
            "text/plain": [
              "Text(0, 0.5, 'Elapsed time (days)')"
            ]
          },
          "metadata": {
            "tags": []
          },
          "execution_count": 21
        },
        {
          "output_type": "display_data",
          "data": {
            "image/png": "[encoded data removed]",
            "text/plain": [
              "<Figure size 432x288 with 1 Axes>"
            ]
          },
          "metadata": {
            "tags": [],
            "needs_background": "light"
          }
        }
      ]
    },
    {
      "cell_type": "code",
      "metadata": {
        "id": "bYqyWtCJnxWZ",
        "colab_type": "code",
        "outputId": "39d6115c-15bc-4e8a-e453-ea6429d5e188",
        "colab": {
          "base_uri": "https://localhost:8080/",
          "height": 221
        }
      },
      "source": [
        "birddata.timestamps[birddata.bird_name==\"Sanne\"]"
      ],
      "execution_count": 0,
      "outputs": [
        {
          "output_type": "execute_result",
          "data": {
            "text/plain": [
              "40916   2013-08-15 00:01:08\n",
              "40917   2013-08-15 00:31:00\n",
              "40918   2013-08-15 01:01:19\n",
              "40919   2013-08-15 01:31:38\n",
              "40920   2013-08-15 02:01:24\n",
              "                ...        \n",
              "61915   2014-04-30 22:00:08\n",
              "61916   2014-04-30 22:29:57\n",
              "61917   2014-04-30 22:59:52\n",
              "61918   2014-04-30 23:29:43\n",
              "61919   2014-04-30 23:59:34\n",
              "Name: timestamps, Length: 21004, dtype: datetime64[ns]"
            ]
          },
          "metadata": {
            "tags": []
          },
          "execution_count": 22
        }
      ]
    }
  ]
}