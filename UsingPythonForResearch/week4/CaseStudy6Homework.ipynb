{
  "nbformat": 4,
  "nbformat_minor": 0,
  "metadata": {
    "colab": {
      "name": "CaseStudy6Homework.ipynb",
      "provenance": [],
      "authorship_tag": "ABX9TyPkf2Di5GSGz8qfmM23XAcD",
      "include_colab_link": true
    },
    "kernelspec": {
      "name": "python3",
      "display_name": "Python 3"
    }
  },
  "cells": [
    {
      "cell_type": "markdown",
      "metadata": {
        "id": "view-in-github",
        "colab_type": "text"
      },
      "source": [
        "<a href=\"https://colab.research.google.com/github/vini1lol/Harvardx/blob/master/CaseStudy6Homework.ipynb\" target=\"_parent\"><img src=\"https://colab.research.google.com/assets/colab-badge.svg\" alt=\"Open In Colab\"/></a>"
      ]
    },
    {
      "cell_type": "markdown",
      "metadata": {
        "id": "qfjqtoQcLkwa",
        "colab_type": "text"
      },
      "source": [
        "# Using Python for Research Homework: Week 4, Case Study 3\n",
        "\n",
        "Homophily is a property of networks.  Homophily occurs when nodes that are neighbors in a network also share a characteristic more often than nodes that are not network neighbors.  In this case study, we will investigate homophily of several characteristics of individuals connected in social networks in rural India."
      ]
    },
    {
      "cell_type": "markdown",
      "metadata": {
        "id": "ddDlPKx0LnOM",
        "colab_type": "text"
      },
      "source": [
        "### Exercise 1\n",
        "In Exercise 1, we will calculate the chance homophily for an arbitrary characteristic. Homophily is the proportion of edges in the network whose constituent nodes share that characteristic.\n",
        "\n",
        "How much homophily do we expect by chance? If characteristics are distributed completely randomly, the probability that two nodes \\(x\\) and \\(y\\) share characteristic \\(a\\) is the probability both nodes have characteristic \\(a\\) , which is the marginal probability of \\(a\\) squared. The total probability that nodes \\(x\\) and \\(y\\) share their characteristic is therefore the sum of the square of the marginal probabilities of each characteristic in the network.\n",
        "\n",
        "<strong>Instructions</strong>\n",
        "<ul><li>Create a function <code>marginal_prob</code> that takes a dictionary <code>chars</code> with personal IDs as keys and characteristics as values; it should return a dictionary with characteristics as keys and their marginal probability (frequency of occurence of a characteristic divided by the sum of frequencies of each characteristic) as values.</li>\n",
        "<li>Create a function <code>chance_homophily(chars)</code> that takes a dictionary <code>chars</code> defined as above and computes the chance homophily (homophily due to chance alone) for that characteristic.</li>\n",
        "<li>A sample of three peoples' favorite colors is given in <code>favorite_colors</code>. Use your function to compute the chance homophily in this group, and store it as <code>color_homophily</code>.</li>\n",
        "<li>Print <code>color_homophily</code>.</li></ul>"
      ]
    },
    {
      "cell_type": "code",
      "metadata": {
        "id": "1jClbLIeLcrj",
        "colab_type": "code",
        "colab": {
          "base_uri": "https://localhost:8080/",
          "height": 34
        },
        "outputId": "b136bea8-ceb4-4e14-faf2-72ba70d730fd"
      },
      "source": [
        "from collections import Counter\n",
        "import numpy as np\n",
        "\n",
        "def marginal_prob(chars):\n",
        "    carc = Counter(chars.values())\n",
        "    s = sum(carc.values())\n",
        "    for v in carc.keys():\n",
        "      carc[v] = carc[v]/s\n",
        "    return carc\n",
        "        \n",
        "def chance_homophily(chars):\n",
        "    c = marginal_prob(chars)\n",
        "    s=0\n",
        "    for i in c.values():\n",
        "      s += i**2\n",
        "    return s \n",
        "\n",
        "favorite_colors = {\n",
        "    \"ankit\":  \"red\",\n",
        "    \"xiaoyu\": \"blue\",\n",
        "    \"mary\":   \"blue\"\n",
        "}\n",
        "\n",
        "color_homophily = chance_homophily(favorite_colors)\n",
        "print(color_homophily)"
      ],
      "execution_count": 14,
      "outputs": [
        {
          "output_type": "stream",
          "text": [
            "0.5555555555555556\n"
          ],
          "name": "stdout"
        }
      ]
    },
    {
      "cell_type": "markdown",
      "metadata": {
        "id": "VUjkjqvHLsc-",
        "colab_type": "text"
      },
      "source": [
        "### Exercise 2\n",
        "\n",
        "In the remaining exercises, we will calculate actual homophily in these village and compare the obtained values to those obtained by chance. In this exercise, we subset the data into individual villages and store them.\n",
        "\n",
        "#### Instructions \n",
        "\n",
        "- `individual_characteristics.dta` contains several characteristics for each individual in the dataset such as age, religion, and caste. Use the `pandas` library to read in and store these characteristics as a dataframe called `df`.\n",
        "- Store separate datasets for individuals belonging to Villages 1 and 2 as `df1` and `df2`, respectively.\n",
        "- Note that some attributes may be missing for some individuals. In this case study, we will ignore rows of data where some column information is missing.\n",
        "- Use the head method to display the first few entries of `df1`."
      ]
    },
    {
      "cell_type": "code",
      "metadata": {
        "id": "XomMfaeOLuYE",
        "colab_type": "code",
        "colab": {
          "base_uri": "https://localhost:8080/",
          "height": 394
        },
        "outputId": "a78a269c-39d4-440a-ce46-ee694feacdb2"
      },
      "source": [
        "import pandas as pd\n",
        "\n",
        "df  = pd.read_csv(\"https://courses.edx.org/asset-v1:HarvardX+PH526x+2T2019+type@asset+block@individual_characteristics.csv\", low_memory=False, index_col=0)\n",
        "df = df[~df.isnull()]\n",
        "df1 = df[df.village == 1]\n",
        "df2 = df[df.village == 2]\n",
        "df1.head()"
      ],
      "execution_count": 37,
      "outputs": [
        {
          "output_type": "execute_result",
          "data": {
            "text/html": [
              "<div>\n",
              "<style scoped>\n",
              "    .dataframe tbody tr th:only-of-type {\n",
              "        vertical-align: middle;\n",
              "    }\n",
              "\n",
              "    .dataframe tbody tr th {\n",
              "        vertical-align: top;\n",
              "    }\n",
              "\n",
              "    .dataframe thead th {\n",
              "        text-align: right;\n",
              "    }\n",
              "</style>\n",
              "<table border=\"1\" class=\"dataframe\">\n",
              "  <thead>\n",
              "    <tr style=\"text-align: right;\">\n",
              "      <th></th>\n",
              "      <th>village</th>\n",
              "      <th>adjmatrix_key</th>\n",
              "      <th>pid</th>\n",
              "      <th>hhid</th>\n",
              "      <th>resp_id</th>\n",
              "      <th>resp_gend</th>\n",
              "      <th>resp_status</th>\n",
              "      <th>age</th>\n",
              "      <th>religion</th>\n",
              "      <th>caste</th>\n",
              "      <th>subcaste</th>\n",
              "      <th>mothertongue</th>\n",
              "      <th>speakother</th>\n",
              "      <th>kannada</th>\n",
              "      <th>tamil</th>\n",
              "      <th>telugu</th>\n",
              "      <th>hindi</th>\n",
              "      <th>urdu</th>\n",
              "      <th>english</th>\n",
              "      <th>otherlang</th>\n",
              "      <th>educ</th>\n",
              "      <th>villagenative</th>\n",
              "      <th>native_name</th>\n",
              "      <th>native_type</th>\n",
              "      <th>native_taluk</th>\n",
              "      <th>native_district</th>\n",
              "      <th>res_time_yrs</th>\n",
              "      <th>res_time_mths</th>\n",
              "      <th>movereason</th>\n",
              "      <th>movecontact</th>\n",
              "      <th>movecontact_res</th>\n",
              "      <th>movecontact_hhid</th>\n",
              "      <th>movecontact_pid</th>\n",
              "      <th>movecontact_name</th>\n",
              "      <th>workflag</th>\n",
              "      <th>work_freq</th>\n",
              "      <th>work_freq_type</th>\n",
              "      <th>occupation</th>\n",
              "      <th>privategovt</th>\n",
              "      <th>work_outside</th>\n",
              "      <th>work_outside_freq</th>\n",
              "      <th>shgparticipate</th>\n",
              "      <th>shg_no</th>\n",
              "      <th>savings</th>\n",
              "      <th>savings_no</th>\n",
              "      <th>electioncard</th>\n",
              "      <th>rationcard</th>\n",
              "      <th>rationcard_colour</th>\n",
              "    </tr>\n",
              "  </thead>\n",
              "  <tbody>\n",
              "    <tr>\n",
              "      <th>0</th>\n",
              "      <td>1</td>\n",
              "      <td>5</td>\n",
              "      <td>100201</td>\n",
              "      <td>1002</td>\n",
              "      <td>1</td>\n",
              "      <td>1</td>\n",
              "      <td>Head of Household</td>\n",
              "      <td>38</td>\n",
              "      <td>HINDUISM</td>\n",
              "      <td>OBC</td>\n",
              "      <td>THIGALA</td>\n",
              "      <td>KANNADA</td>\n",
              "      <td>No</td>\n",
              "      <td>No</td>\n",
              "      <td>No</td>\n",
              "      <td>No</td>\n",
              "      <td>No</td>\n",
              "      <td>No</td>\n",
              "      <td>No</td>\n",
              "      <td>NaN</td>\n",
              "      <td>2ND STANDARD</td>\n",
              "      <td>Yes</td>\n",
              "      <td>NaN</td>\n",
              "      <td>NaN</td>\n",
              "      <td>NaN</td>\n",
              "      <td>NaN</td>\n",
              "      <td>NaN</td>\n",
              "      <td>NaN</td>\n",
              "      <td>NaN</td>\n",
              "      <td>NaN</td>\n",
              "      <td>NaN</td>\n",
              "      <td>NaN</td>\n",
              "      <td>NaN</td>\n",
              "      <td>NaN</td>\n",
              "      <td>Yes</td>\n",
              "      <td>6.0</td>\n",
              "      <td>DAYS PER WEEK</td>\n",
              "      <td>BUSINESS</td>\n",
              "      <td>PRIVATE BUSINESS</td>\n",
              "      <td>Yes</td>\n",
              "      <td>0.0</td>\n",
              "      <td>No</td>\n",
              "      <td>NaN</td>\n",
              "      <td>No</td>\n",
              "      <td>NaN</td>\n",
              "      <td>Yes</td>\n",
              "      <td>Yes</td>\n",
              "      <td>GREEN</td>\n",
              "    </tr>\n",
              "    <tr>\n",
              "      <th>1</th>\n",
              "      <td>1</td>\n",
              "      <td>6</td>\n",
              "      <td>100202</td>\n",
              "      <td>1002</td>\n",
              "      <td>2</td>\n",
              "      <td>2</td>\n",
              "      <td>Spouse of Head of Household</td>\n",
              "      <td>27</td>\n",
              "      <td>HINDUISM</td>\n",
              "      <td>OBC</td>\n",
              "      <td>THIGALA</td>\n",
              "      <td>KANNADA</td>\n",
              "      <td>No</td>\n",
              "      <td>No</td>\n",
              "      <td>No</td>\n",
              "      <td>No</td>\n",
              "      <td>No</td>\n",
              "      <td>No</td>\n",
              "      <td>No</td>\n",
              "      <td>NaN</td>\n",
              "      <td>2ND STANDARD</td>\n",
              "      <td>No</td>\n",
              "      <td>data has been removed for publication</td>\n",
              "      <td>VILLAGE</td>\n",
              "      <td>data has been removed for publication</td>\n",
              "      <td>BANGALORE</td>\n",
              "      <td>16.0</td>\n",
              "      <td>NaN</td>\n",
              "      <td>MARRIAGE</td>\n",
              "      <td>NaN</td>\n",
              "      <td>NaN</td>\n",
              "      <td>NaN</td>\n",
              "      <td>NaN</td>\n",
              "      <td>NaN</td>\n",
              "      <td>No</td>\n",
              "      <td>NaN</td>\n",
              "      <td>NaN</td>\n",
              "      <td>NaN</td>\n",
              "      <td>NaN</td>\n",
              "      <td>NaN</td>\n",
              "      <td>NaN</td>\n",
              "      <td>No</td>\n",
              "      <td>NaN</td>\n",
              "      <td>No</td>\n",
              "      <td>NaN</td>\n",
              "      <td>Yes</td>\n",
              "      <td>Yes</td>\n",
              "      <td>GREEN</td>\n",
              "    </tr>\n",
              "    <tr>\n",
              "      <th>2</th>\n",
              "      <td>1</td>\n",
              "      <td>23</td>\n",
              "      <td>100601</td>\n",
              "      <td>1006</td>\n",
              "      <td>1</td>\n",
              "      <td>1</td>\n",
              "      <td>Head of Household</td>\n",
              "      <td>29</td>\n",
              "      <td>HINDUISM</td>\n",
              "      <td>OBC</td>\n",
              "      <td>VOKKALIGA</td>\n",
              "      <td>KANNADA</td>\n",
              "      <td>No</td>\n",
              "      <td>No</td>\n",
              "      <td>No</td>\n",
              "      <td>No</td>\n",
              "      <td>No</td>\n",
              "      <td>No</td>\n",
              "      <td>No</td>\n",
              "      <td>NaN</td>\n",
              "      <td>7TH STANDARD</td>\n",
              "      <td>Yes</td>\n",
              "      <td>NaN</td>\n",
              "      <td>NaN</td>\n",
              "      <td>NaN</td>\n",
              "      <td>NaN</td>\n",
              "      <td>NaN</td>\n",
              "      <td>NaN</td>\n",
              "      <td>NaN</td>\n",
              "      <td>NaN</td>\n",
              "      <td>NaN</td>\n",
              "      <td>NaN</td>\n",
              "      <td>NaN</td>\n",
              "      <td>NaN</td>\n",
              "      <td>Yes</td>\n",
              "      <td>8.0</td>\n",
              "      <td>HOURS PER DAY</td>\n",
              "      <td>AGRICULTURE LABOUR</td>\n",
              "      <td>OTHER LAND</td>\n",
              "      <td>No</td>\n",
              "      <td>NaN</td>\n",
              "      <td>No</td>\n",
              "      <td>NaN</td>\n",
              "      <td>No</td>\n",
              "      <td>NaN</td>\n",
              "      <td>Yes</td>\n",
              "      <td>Yes</td>\n",
              "      <td>GREEN</td>\n",
              "    </tr>\n",
              "    <tr>\n",
              "      <th>3</th>\n",
              "      <td>1</td>\n",
              "      <td>24</td>\n",
              "      <td>100602</td>\n",
              "      <td>1006</td>\n",
              "      <td>2</td>\n",
              "      <td>2</td>\n",
              "      <td>Spouse of Head of Household</td>\n",
              "      <td>24</td>\n",
              "      <td>HINDUISM</td>\n",
              "      <td>OBC</td>\n",
              "      <td>VOKKALIGA</td>\n",
              "      <td>KANNADA</td>\n",
              "      <td>No</td>\n",
              "      <td>No</td>\n",
              "      <td>No</td>\n",
              "      <td>No</td>\n",
              "      <td>No</td>\n",
              "      <td>No</td>\n",
              "      <td>No</td>\n",
              "      <td>NaN</td>\n",
              "      <td>S.S.L.C.</td>\n",
              "      <td>No</td>\n",
              "      <td>data has been removed for publication</td>\n",
              "      <td>VILLAGE</td>\n",
              "      <td>data has been removed for publication</td>\n",
              "      <td>BANGALORE</td>\n",
              "      <td>6.0</td>\n",
              "      <td>NaN</td>\n",
              "      <td>MARRIAGE</td>\n",
              "      <td>NaN</td>\n",
              "      <td>NaN</td>\n",
              "      <td>NaN</td>\n",
              "      <td>NaN</td>\n",
              "      <td>NaN</td>\n",
              "      <td>Yes</td>\n",
              "      <td>8.0</td>\n",
              "      <td>HOURS PER DAY</td>\n",
              "      <td>TAILOR</td>\n",
              "      <td>PRIVATE BUSINESS</td>\n",
              "      <td>No</td>\n",
              "      <td>NaN</td>\n",
              "      <td>Yes</td>\n",
              "      <td>1.0</td>\n",
              "      <td>Yes</td>\n",
              "      <td>1.0</td>\n",
              "      <td>Yes</td>\n",
              "      <td>No</td>\n",
              "      <td>NaN</td>\n",
              "    </tr>\n",
              "    <tr>\n",
              "      <th>4</th>\n",
              "      <td>1</td>\n",
              "      <td>27</td>\n",
              "      <td>100701</td>\n",
              "      <td>1007</td>\n",
              "      <td>1</td>\n",
              "      <td>1</td>\n",
              "      <td>Head of Household</td>\n",
              "      <td>58</td>\n",
              "      <td>HINDUISM</td>\n",
              "      <td>OBC</td>\n",
              "      <td>VOKKALIGA</td>\n",
              "      <td>KANNADA</td>\n",
              "      <td>No</td>\n",
              "      <td>No</td>\n",
              "      <td>No</td>\n",
              "      <td>No</td>\n",
              "      <td>No</td>\n",
              "      <td>No</td>\n",
              "      <td>No</td>\n",
              "      <td>NaN</td>\n",
              "      <td>S.S.L.C.</td>\n",
              "      <td>Yes</td>\n",
              "      <td>NaN</td>\n",
              "      <td>NaN</td>\n",
              "      <td>NaN</td>\n",
              "      <td>NaN</td>\n",
              "      <td>NaN</td>\n",
              "      <td>NaN</td>\n",
              "      <td>NaN</td>\n",
              "      <td>NaN</td>\n",
              "      <td>NaN</td>\n",
              "      <td>NaN</td>\n",
              "      <td>NaN</td>\n",
              "      <td>NaN</td>\n",
              "      <td>Yes</td>\n",
              "      <td>6.0</td>\n",
              "      <td>DAYS PER WEEK</td>\n",
              "      <td>AGRICULTURE CAUSUAL LABOUR</td>\n",
              "      <td>OTHER LAND</td>\n",
              "      <td>No</td>\n",
              "      <td>NaN</td>\n",
              "      <td>No</td>\n",
              "      <td>NaN</td>\n",
              "      <td>No</td>\n",
              "      <td>NaN</td>\n",
              "      <td>Yes</td>\n",
              "      <td>Yes</td>\n",
              "      <td>GREEN</td>\n",
              "    </tr>\n",
              "  </tbody>\n",
              "</table>\n",
              "</div>"
            ],
            "text/plain": [
              "   village  adjmatrix_key     pid  ...  electioncard  rationcard  rationcard_colour\n",
              "0        1              5  100201  ...           Yes         Yes              GREEN\n",
              "1        1              6  100202  ...           Yes         Yes              GREEN\n",
              "2        1             23  100601  ...           Yes         Yes              GREEN\n",
              "3        1             24  100602  ...           Yes          No                NaN\n",
              "4        1             27  100701  ...           Yes         Yes              GREEN\n",
              "\n",
              "[5 rows x 48 columns]"
            ]
          },
          "metadata": {
            "tags": []
          },
          "execution_count": 37
        }
      ]
    },
    {
      "cell_type": "markdown",
      "metadata": {
        "id": "pzE11fjBLwca",
        "colab_type": "text"
      },
      "source": [
        "### Exercise 3 \n",
        "\n",
        "In this exercise, we define a few dictionaries that enable us to look up the sex, caste, and religion of members of each village by personal ID. For Villages 1 and 2, their personal IDs are stored as `pid`.\n",
        "\n",
        "#### Instructions \n",
        "- Define dictionaries with personal IDs as keys and a given covariate for that individual as values. Complete this for the sex, caste, and religion covariates, for Villages 1 and 2.\n",
        "- For Village 1, store these dictionaries into variables named `sex1`, `caste1`, and `religion1`.\n",
        "- For Village 2, store these dictionaries into variables named `sex2`, `caste2`, and `religion2`."
      ]
    },
    {
      "cell_type": "code",
      "metadata": {
        "id": "VwOPXpApLyrn",
        "colab_type": "code",
        "colab": {
          "base_uri": "https://localhost:8080/",
          "height": 34
        },
        "outputId": "27b0c43a-bac4-4cc3-d4e1-7d2a92ea6c9a"
      },
      "source": [
        "sex1 = dict(zip(df1.pid,df1.resp_gend))\n",
        "caste1 = dict(zip(df1.pid,df1.caste))\n",
        "religion1 = dict(zip(df1.pid,df1.religion))\n",
        "\n",
        "sex2 = dict(zip(df2.pid,df2.resp_gend))\n",
        "caste2 = dict(zip(df2.pid,df2.caste))\n",
        "religion2 = dict(zip(df2.pid,df2.religion))\n",
        "\n",
        "caste2[202802]"
      ],
      "execution_count": 41,
      "outputs": [
        {
          "output_type": "execute_result",
          "data": {
            "text/plain": [
              "'OBC'"
            ]
          },
          "metadata": {
            "tags": []
          },
          "execution_count": 41
        }
      ]
    },
    {
      "cell_type": "markdown",
      "metadata": {
        "id": "8KyWXPUWL0g1",
        "colab_type": "text"
      },
      "source": [
        "### Exercise 4\n",
        "\n",
        "In this exercise, we will print the chance homophily of several characteristics of Villages 1 and 2. \n",
        "\n",
        "#### Instructions \n",
        "-  Use `chance_homophily` to compute the chance homophily for sex, caste, and religion In Villages 1 and 2. Is the chance homophily for any attribute very high for either village?"
      ]
    },
    {
      "cell_type": "code",
      "metadata": {
        "id": "yJ-xgCFQL2Ra",
        "colab_type": "code",
        "colab": {
          "base_uri": "https://localhost:8080/",
          "height": 119
        },
        "outputId": "e9fd9485-cb4f-4aa2-f05f-f51816def282"
      },
      "source": [
        "print(\"Village 1 sex: %d\" % chance_homophily(sex1))\n",
        "print(\"Village 1 caste: %d\" % chance_homophily(caste1))\n",
        "print(\"Village 1 religion: %d\" % chance_homophily(religion1))\n",
        "\n",
        "print(\"Village 2 sex: %d\" % chance_homophily(sex2))\n",
        "print(\"Village 2 caste: %d\" % chance_homophily(caste2))\n",
        "print(\"Village 2 religion: %d\" % chance_homophily(religion2))"
      ],
      "execution_count": 45,
      "outputs": [
        {
          "output_type": "stream",
          "text": [
            "Village 1 sex: 0\n",
            "Village 1 caste: 0\n",
            "Village 1 religion: 0\n",
            "Village 2 sex: 0\n",
            "Village 2 caste: 0\n",
            "Village 2 religion: 1\n"
          ],
          "name": "stdout"
        }
      ]
    },
    {
      "cell_type": "markdown",
      "metadata": {
        "id": "n7L1g0AbL4Id",
        "colab_type": "text"
      },
      "source": [
        "### Exercise 5\n",
        "\n",
        "In this exercise, we will create a function that computes the observed homophily given a village and characteristic.\n",
        "\n",
        "#### Instructions \n",
        "- Complete the function `homophily()`, which takes a network `G`, a dictionary of node characteristics `chars`, and node IDs `IDs`. For each node pair, determine whether a tie exists between them, as well as whether they share a characteristic. The total count of these is `num_ties` and `num_same_ties`, respectively, and their ratio is the homophily of chars in `G`. Complete the function by choosing where to increment `num_same_ties` and `num_ties`."
      ]
    },
    {
      "cell_type": "code",
      "metadata": {
        "id": "H-SGH3wEL6AL",
        "colab_type": "code",
        "colab": {}
      },
      "source": [
        "def homophily(G, chars, IDs):\n",
        "    \"\"\"\n",
        "    Given a network G, a dict of characteristics chars for node IDs,\n",
        "    and dict of node IDs for each node in the network,\n",
        "    find the homophily of the network.\n",
        "    \"\"\"\n",
        "    num_same_ties = 0\n",
        "    num_ties = 0\n",
        "    for n1, n2 in G.edges():\n",
        "        if IDs[n1] in chars and IDs[n2] in chars:\n",
        "            if G.has_edge(n1, n2):\n",
        "                num_ties +=1\n",
        "                if chars[IDs[n1]] == chars[IDs[n2]]:\n",
        "                    num_same_ties +=1\n",
        "    return (num_same_ties / num_ties)   "
      ],
      "execution_count": 0,
      "outputs": []
    },
    {
      "cell_type": "markdown",
      "metadata": {
        "id": "vHz56to5L75b",
        "colab_type": "text"
      },
      "source": [
        "### Exercise 6\n",
        "\n",
        "In this exercise, we will obtain the personal IDs for Villages 1 and 2. These will be used in the next exercise to calculate homophily for these villages.\n",
        "\n",
        "#### Instructions \n",
        "- In this dataset, each individual has a personal ID, or PID, stored in `key_vilno_1.csv` and `key_vilno_2.csv` for villages 1 and 2, respectively. `data_filepath1` and `data_filepath2` contain the URLs to the datasets used in this exercise. Use `pd.read_csv` to read in and store `key_vilno_1.csv` and `key_vilno_2.csv` as `pid1` and `pid2` respectively."
      ]
    },
    {
      "cell_type": "code",
      "metadata": {
        "id": "kjhF1zkdL94A",
        "colab_type": "code",
        "colab": {
          "base_uri": "https://localhost:8080/",
          "height": 68
        },
        "outputId": "735b2e75-08e1-44ea-bcc4-e5385a7c36ba"
      },
      "source": [
        "data_filepath1 = \"https://courses.edx.org/asset-v1:HarvardX+PH526x+2T2019+type@asset+block@key_vilno_1.csv\"\n",
        "data_filepath2 = \"https://courses.edx.org/asset-v1:HarvardX+PH526x+2T2019+type@asset+block@key_vilno_2.csv\"\n",
        "\n",
        "pid1 = pd.read_csv(data_filepath1)\n",
        "pid2 = pd.read_csv(data_filepath2)\n",
        "pid1.iloc[100]"
      ],
      "execution_count": 51,
      "outputs": [
        {
          "output_type": "execute_result",
          "data": {
            "text/plain": [
              "Unnamed: 0       100\n",
              "0             102205\n",
              "Name: 100, dtype: int64"
            ]
          },
          "metadata": {
            "tags": []
          },
          "execution_count": 51
        }
      ]
    },
    {
      "cell_type": "markdown",
      "metadata": {
        "id": "Xqh9BeQFL_Y3",
        "colab_type": "text"
      },
      "source": [
        "### Exercise 7\n",
        "\n",
        "In this exercise, we will compute the homophily of several network characteristics for Villages 1 and 2 and compare them to homophily due to chance alone. The networks for these villages have been stored as networkx graph objects `G1` and `G2`.\n",
        "\n",
        "#### Instructions \n",
        "\n",
        "- Use your `homophily()` function to compute the observed homophily for sex, caste, and religion in Villages 1 and 2. Print all six values.\n",
        "- Use the `chance_homophily()` to compare these values to chance homophily. Are these values higher or lower than that expected by chance?"
      ]
    },
    {
      "cell_type": "code",
      "metadata": {
        "id": "gXnYitjHMBnx",
        "colab_type": "code",
        "colab": {
          "base_uri": "https://localhost:8080/",
          "height": 136
        },
        "outputId": "74d20742-636e-468d-bf6b-c3a980ce1731"
      },
      "source": [
        "import networkx as nx\n",
        "A1 = np.array(pd.read_csv(\"https://courses.edx.org/asset-v1:HarvardX+PH526x+2T2019+type@asset+block@adj_allVillageRelationships_vilno1.csv\", index_col=0))\n",
        "A2 = np.array(pd.read_csv(\"https://courses.edx.org/asset-v1:HarvardX+PH526x+2T2019+type@asset+block@adj_allVillageRelationships_vilno2.csv\", index_col=0))\n",
        "G1 = nx.to_networkx_graph(A1)\n",
        "G2 = nx.to_networkx_graph(A2)\n",
        "\n",
        "pid1 = pd.read_csv(data_filepath1, dtype=int)['0'].to_dict()\n",
        "pid2 = pd.read_csv(data_filepath2, dtype=int)['0'].to_dict()\n",
        "\n",
        "print(\"Village 1 sex: homophily : %f - chance_homophily: %f - difference: %f\" % (homophily(G1,sex1,pid1),chance_homophily(sex1),homophily(G1,sex1,pid1)-chance_homophily(sex1)))\n",
        "print(\"Village 1 caste: homophily : %f - chance_homophily: %f - difference: %f\" % (homophily(G1,caste1,pid1),chance_homophily(caste1),homophily(G1,caste1,pid1)-chance_homophily(caste1)))\n",
        "print(\"Village 1 religion: homophily : %f - chance_homophily: %f - difference: %f\" % (homophily(G1,religion1,pid1),chance_homophily(religion1),homophily(G1,religion1,pid1)-chance_homophily(religion1)))\n",
        "print(\"\")\n",
        "print(\"Village 2 sex: homophily : %f - chance_homophily: %f - difference: %f\" % (homophily(G2,sex2,pid2),chance_homophily(sex2),homophily(G2,sex2,pid2)-chance_homophily(sex2)))\n",
        "print(\"Village 2 caste: homophily : %f - chance_homophily: %f - difference: %f\" % (homophily(G2,caste2,pid2),chance_homophily(caste2),homophily(G2,caste2,pid2)-chance_homophily(caste2)))\n",
        "print(\"Village 2 religion: homophily : %f - chance_homophily: %f - difference: %f\" % (homophily(G2,religion2,pid2),chance_homophily(religion2),homophily(G2,religion2,pid2)-chance_homophily(religion2)))\n"
      ],
      "execution_count": 63,
      "outputs": [
        {
          "output_type": "stream",
          "text": [
            "Village 1 sex: homophily : 0.590863 - chance_homophily: 0.502730 - difference: 0.088133\n",
            "Village 1 caste: homophily : 0.795939 - chance_homophily: 0.674149 - difference: 0.121790\n",
            "Village 1 religion: homophily : 0.990863 - chance_homophily: 0.980490 - difference: 0.010373\n",
            "\n",
            "Village 2 sex: homophily : 0.565807 - chance_homophily: 0.500595 - difference: 0.065213\n",
            "Village 2 caste: homophily : 0.827680 - chance_homophily: 0.425368 - difference: 0.402312\n",
            "Village 2 religion: homophily : 1.000000 - chance_homophily: 1.000000 - difference: 0.000000\n"
          ],
          "name": "stdout"
        }
      ]
    }
  ]
}