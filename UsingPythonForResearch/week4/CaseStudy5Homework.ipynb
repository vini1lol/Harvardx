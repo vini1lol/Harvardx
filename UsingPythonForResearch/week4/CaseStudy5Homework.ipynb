{
  "nbformat": 4,
  "nbformat_minor": 0,
  "metadata": {
    "colab": {
      "name": "CaseStudy5Homework.ipynb",
      "provenance": [],
      "authorship_tag": "ABX9TyNMHhKxLPf8XWCAWOJxeXVq",
      "include_colab_link": true
    },
    "kernelspec": {
      "name": "python3",
      "display_name": "Python 3"
    }
  },
  "cells": [
    {
      "cell_type": "markdown",
      "metadata": {
        "id": "view-in-github",
        "colab_type": "text"
      },
      "source": [
        "<a href=\"https://colab.research.google.com/github/vini1lol/Harvardx/blob/master/CaseStudy5Homework.ipynb\" target=\"_parent\"><img src=\"https://colab.research.google.com/assets/colab-badge.svg\" alt=\"Open In Colab\"/></a>"
      ]
    },
    {
      "cell_type": "markdown",
      "metadata": {
        "id": "s3NSUaig0puZ",
        "colab_type": "text"
      },
      "source": [
        "# Using Python for Research Homework: Week 4, Case Study 2\n",
        "\n",
        "In this case study, we will continue taking a look at patterns of flight for each of the three birds in our dataset."
      ]
    },
    {
      "cell_type": "code",
      "metadata": {
        "id": "OdLp1stHve78",
        "colab_type": "code",
        "colab": {
          "base_uri": "https://localhost:8080/",
          "height": 204
        },
        "outputId": "21f409b9-a0f3-416a-acca-0f209effc540"
      },
      "source": [
        "# DO NOT EDIT THIS CODE\n",
        "import pandas as pd\n",
        "import numpy as np\n",
        "birddata = pd.read_csv(\"https://courses.edx.org/asset-v1:HarvardX+PH526x+2T2019+type@asset+block@bird_tracking.csv\", index_col=0)\n",
        "birddata.head()"
      ],
      "execution_count": 1,
      "outputs": [
        {
          "output_type": "execute_result",
          "data": {
            "text/html": [
              "<div>\n",
              "<style scoped>\n",
              "    .dataframe tbody tr th:only-of-type {\n",
              "        vertical-align: middle;\n",
              "    }\n",
              "\n",
              "    .dataframe tbody tr th {\n",
              "        vertical-align: top;\n",
              "    }\n",
              "\n",
              "    .dataframe thead th {\n",
              "        text-align: right;\n",
              "    }\n",
              "</style>\n",
              "<table border=\"1\" class=\"dataframe\">\n",
              "  <thead>\n",
              "    <tr style=\"text-align: right;\">\n",
              "      <th></th>\n",
              "      <th>altitude</th>\n",
              "      <th>date_time</th>\n",
              "      <th>device_info_serial</th>\n",
              "      <th>direction</th>\n",
              "      <th>latitude</th>\n",
              "      <th>longitude</th>\n",
              "      <th>speed_2d</th>\n",
              "      <th>bird_name</th>\n",
              "    </tr>\n",
              "  </thead>\n",
              "  <tbody>\n",
              "    <tr>\n",
              "      <th>0</th>\n",
              "      <td>71</td>\n",
              "      <td>2013-08-15 00:18:08+00</td>\n",
              "      <td>851</td>\n",
              "      <td>-150.469753</td>\n",
              "      <td>49.419860</td>\n",
              "      <td>2.120733</td>\n",
              "      <td>0.150000</td>\n",
              "      <td>Eric</td>\n",
              "    </tr>\n",
              "    <tr>\n",
              "      <th>1</th>\n",
              "      <td>68</td>\n",
              "      <td>2013-08-15 00:48:07+00</td>\n",
              "      <td>851</td>\n",
              "      <td>-136.151141</td>\n",
              "      <td>49.419880</td>\n",
              "      <td>2.120746</td>\n",
              "      <td>2.438360</td>\n",
              "      <td>Eric</td>\n",
              "    </tr>\n",
              "    <tr>\n",
              "      <th>2</th>\n",
              "      <td>68</td>\n",
              "      <td>2013-08-15 01:17:58+00</td>\n",
              "      <td>851</td>\n",
              "      <td>160.797477</td>\n",
              "      <td>49.420310</td>\n",
              "      <td>2.120885</td>\n",
              "      <td>0.596657</td>\n",
              "      <td>Eric</td>\n",
              "    </tr>\n",
              "    <tr>\n",
              "      <th>3</th>\n",
              "      <td>73</td>\n",
              "      <td>2013-08-15 01:47:51+00</td>\n",
              "      <td>851</td>\n",
              "      <td>32.769360</td>\n",
              "      <td>49.420359</td>\n",
              "      <td>2.120859</td>\n",
              "      <td>0.310161</td>\n",
              "      <td>Eric</td>\n",
              "    </tr>\n",
              "    <tr>\n",
              "      <th>4</th>\n",
              "      <td>69</td>\n",
              "      <td>2013-08-15 02:17:42+00</td>\n",
              "      <td>851</td>\n",
              "      <td>45.191230</td>\n",
              "      <td>49.420331</td>\n",
              "      <td>2.120887</td>\n",
              "      <td>0.193132</td>\n",
              "      <td>Eric</td>\n",
              "    </tr>\n",
              "  </tbody>\n",
              "</table>\n",
              "</div>"
            ],
            "text/plain": [
              "   altitude               date_time  ...  speed_2d  bird_name\n",
              "0        71  2013-08-15 00:18:08+00  ...  0.150000       Eric\n",
              "1        68  2013-08-15 00:48:07+00  ...  2.438360       Eric\n",
              "2        68  2013-08-15 01:17:58+00  ...  0.596657       Eric\n",
              "3        73  2013-08-15 01:47:51+00  ...  0.310161       Eric\n",
              "4        69  2013-08-15 02:17:42+00  ...  0.193132       Eric\n",
              "\n",
              "[5 rows x 8 columns]"
            ]
          },
          "metadata": {
            "tags": []
          },
          "execution_count": 1
        }
      ]
    },
    {
      "cell_type": "markdown",
      "metadata": {
        "id": "LR1Yy-oF0uIL",
        "colab_type": "text"
      },
      "source": [
        "### Exercise 1\n",
        "\n",
        "In this case study, we will continue taking a look at patterns of flight for each of the three birds in our dataset. We will group the flight patterns by bird and date, and plot the mean altitude for these groupings.\n",
        "\n",
        "`pandas` makes it easy to perform basic operations on groups within a dataframe without needing to loop through each value in the dataframe. In this exercise, we will group the dataframe by `birdname` and then find the average `speed_2d` for each bird.\n",
        "\n",
        "#### Instructions \n",
        "- Fill in the code to find the mean altitudes of each bird using the pre-loaded `birddata` dataframe. "
      ]
    },
    {
      "cell_type": "code",
      "metadata": {
        "id": "TThtzROx0wCB",
        "colab_type": "code",
        "colab": {
          "base_uri": "https://localhost:8080/",
          "height": 102
        },
        "outputId": "989f6254-d8de-4267-d311-460b3c6f03d6"
      },
      "source": [
        "# First, use `groupby()` to group the data by \"bird_name\".\n",
        "grouped_birds = birddata.groupby([\"bird_name\"])\n",
        "\n",
        "# Now calculate the mean of `speed_2d` using the `mean()` function.\n",
        "mean_speeds = grouped_birds.speed_2d.mean()\n",
        "\n",
        "# Find the mean `altitude` for each bird.\n",
        "mean_altitudes = grouped_birds.altitude.mean()\n",
        "mean_speeds"
      ],
      "execution_count": 21,
      "outputs": [
        {
          "output_type": "execute_result",
          "data": {
            "text/plain": [
              "bird_name\n",
              "Eric     2.300545\n",
              "Nico     2.908726\n",
              "Sanne    2.450434\n",
              "Name: speed_2d, dtype: float64"
            ]
          },
          "metadata": {
            "tags": []
          },
          "execution_count": 21
        }
      ]
    },
    {
      "cell_type": "markdown",
      "metadata": {
        "id": "GMLd_stA0yN8",
        "colab_type": "text"
      },
      "source": [
        "### Exercise 2\n",
        "\n",
        "In this exercise, we will group the flight times by date and calculate the mean altitude within that day.\n",
        "\n",
        "#### Instructions \n",
        "- Convert `birddata.date_time` to the `pd.datetime` format, and store as `birddata[\"date\"]`.\n",
        "- Fill in the code to find the mean altitudes for each day."
      ]
    },
    {
      "cell_type": "code",
      "metadata": {
        "id": "DJ-WxoAS00AS",
        "colab_type": "code",
        "colab": {
          "base_uri": "https://localhost:8080/",
          "height": 51
        },
        "outputId": "696fbe55-9037-4c59-faf6-230f1e494a3b"
      },
      "source": [
        "# Convert birddata.date_time to the `pd.datetime` format.\n",
        "birddata.date_time = pd.to_datetime(birddata.date_time)\n",
        "\n",
        "# Create a new column of day of observation\n",
        "birddata[\"date\"] = birddata.date_time.dt.date\n",
        "\n",
        "# Use `groupby()` to group the data by date.\n",
        "grouped_bydates = birddata.groupby(['date'])\n",
        "\n",
        "# Find the mean `altitude` for each date.\n",
        "mean_altitudes_perday = grouped_bydates.altitude.mean()\n",
        "\n",
        "import datetime\n",
        "d = datetime.datetime.strptime('2013-09-12','%Y-%m-%d')\n",
        "print(d.date())\n",
        "mean_altitudes_perday.loc[d.date()]"
      ],
      "execution_count": 63,
      "outputs": [
        {
          "output_type": "stream",
          "text": [
            "2013-09-12\n"
          ],
          "name": "stdout"
        },
        {
          "output_type": "execute_result",
          "data": {
            "text/plain": [
              "75.64609053497942"
            ]
          },
          "metadata": {
            "tags": []
          },
          "execution_count": 63
        }
      ]
    },
    {
      "cell_type": "markdown",
      "metadata": {
        "id": "4fvROPCr01oG",
        "colab_type": "text"
      },
      "source": [
        "### Exercise 3\n",
        "\n",
        "In this exercise, we will group the flight times by both bird and date, and calculate the mean altitude for each.\n",
        "\n",
        "#### Instructions \n",
        "- `birddata` already contains the `date` column. To find the average speed for each bird and day, create a new grouped dataframe called `grouped_birdday` that groups the data by both `bird_name` and date."
      ]
    },
    {
      "cell_type": "code",
      "metadata": {
        "id": "wBVRAUZ503m1",
        "colab_type": "code",
        "colab": {
          "base_uri": "https://localhost:8080/",
          "height": 34
        },
        "outputId": "32149a9b-3cc1-4a80-8ee1-5cd6efd10766"
      },
      "source": [
        "# Use `groupby()` to group the data by bird and date.\n",
        "grouped_birdday = birddata.groupby(['bird_name','date'])\n",
        "\n",
        "# Find the mean `altitude` for each bird and date.\n",
        "mean_altitudes_perday = grouped_birdday.altitude.mean()\n",
        "d= datetime.datetime.strptime('2013-08-18','%Y-%m-%d')\n",
        "mean_altitudes_perday.loc[\"Eric\"].loc[d.date()]"
      ],
      "execution_count": 64,
      "outputs": [
        {
          "output_type": "execute_result",
          "data": {
            "text/plain": [
              "121.35365853658537"
            ]
          },
          "metadata": {
            "tags": []
          },
          "execution_count": 64
        }
      ]
    },
    {
      "cell_type": "markdown",
      "metadata": {
        "id": "bOR0KJgw05oM",
        "colab_type": "text"
      },
      "source": [
        "### Exercise 4\n",
        "\n",
        "Great! Now find the average speed for each bird and day.\n",
        "\n",
        "#### Instructions \n",
        "\n",
        "- Store these are three `pandas` `Series` objects, one for each bird.\n",
        "- Use the plotting code provided to plot the average speeds for each bird."
      ]
    },
    {
      "cell_type": "code",
      "metadata": {
        "id": "H-U74K9-07yl",
        "colab_type": "code",
        "colab": {
          "base_uri": "https://localhost:8080/",
          "height": 296
        },
        "outputId": "3aca26f8-da5c-40b3-a90e-305edd7563d5"
      },
      "source": [
        "import matplotlib.pyplot as plt\n",
        "\n",
        "mean_speeds_perday = grouped_birdday.speed_2d.mean()\n",
        "\n",
        "eric_daily_speed  = mean_speeds_perday.loc[\"Eric\"]\n",
        "sanne_daily_speed = mean_speeds_perday.loc['Sanne']\n",
        "nico_daily_speed  = mean_speeds_perday.loc[\"Nico\"]\n",
        "\n",
        "d = datetime.datetime.strptime('2014-04-04','%Y-%m-%d')\n",
        "print(nico_daily_speed.loc[d.date()])\n",
        "\n",
        "eric_daily_speed.plot(label=\"Eric\")\n",
        "sanne_daily_speed.plot(label=\"Sanne\")\n",
        "nico_daily_speed.plot(label=\"Nico\")\n",
        "plt.legend(loc=\"upper left\")\n",
        "plt.show()"
      ],
      "execution_count": 67,
      "outputs": [
        {
          "output_type": "stream",
          "text": [
            "2.8324654508684057\n"
          ],
          "name": "stdout"
        },
        {
          "output_type": "display_data",
          "data": {
            "image/png": "[encoded data removed]",
            "text/plain": [
              "<Figure size 432x288 with 1 Axes>"
            ]
          },
          "metadata": {
            "tags": [],
            "needs_background": "light"
          }
        }
      ]
    }
  ]
}